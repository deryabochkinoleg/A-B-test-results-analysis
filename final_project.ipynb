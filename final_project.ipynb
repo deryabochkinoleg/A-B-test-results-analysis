{
 "cells": [
  {
   "cell_type": "markdown",
   "id": "02a77fe8-cba0-4e82-b6af-c31e5e074b90",
   "metadata": {},
   "source": [
    "# Финальный проект: вариант 2"
   ]
  },
  {
   "cell_type": "markdown",
   "id": "95c0691e-1686-46f5-bc68-16b5f51fc7fa",
   "metadata": {},
   "source": [
    "## Задание 1. A/B - тестирование"
   ]
  },
  {
   "cell_type": "markdown",
   "id": "b7a29f58-5722-4796-b415-c663fa2c97b3",
   "metadata": {},
   "source": [
    "### Условие"
   ]
  },
  {
   "cell_type": "markdown",
   "id": "bb650c19-6612-4dcf-8f0b-3a142d322be4",
   "metadata": {},
   "source": [
    "Одной из основных задач аналитика в нашей команде является корректное проведение экспериментов. Для этого мы применяем метод A/B–тестирования. В ходе тестирования одной гипотезы целевой группе была предложена новая механика оплаты услуг на сайте, у контрольной группы оставалась базовая механика. В качестве задания Вам необходимо проанализировать итоги эксперимента и сделать вывод, стоит ли запускать новую механику оплаты на всех пользователей."
   ]
  },
  {
   "cell_type": "markdown",
   "id": "55e7540b-ed00-4a95-a3c1-0ed5993b2c59",
   "metadata": {},
   "source": [
    "### Входные данные"
   ]
  },
  {
   "cell_type": "markdown",
   "id": "c6c5d081-4129-47f3-acad-cd81e48c714e",
   "metadata": {},
   "source": [
    "- groups.csv - файл с информацией о принадлежности пользователя к контрольной или экспериментальной группе (А – контроль, B – целевая группа) \n",
    "- groups_add.csv - дополнительный файл с пользователями, который вам прислали спустя 2 дня после передачи данных\n",
    "- active_studs.csv - файл с информацией о пользователях, которые зашли на платформу в дни проведения эксперимента. \n",
    "- checks.csv - файл с информацией об оплатах пользователей в дни проведения эксперимента. "
   ]
  },
  {
   "cell_type": "markdown",
   "id": "bb0de331-f0b8-445d-b3a0-ed1ad164ee00",
   "metadata": {},
   "source": [
    "### Вопросы"
   ]
  },
  {
   "cell_type": "markdown",
   "id": "efd7a3bf-0cc3-4a38-8cbf-b0651ed71be5",
   "metadata": {},
   "source": [
    "- На какие метрики Вы смотрите в ходе анализа и почему?\n",
    "- Имеются ли различия в показателях и с чем они могут быть связаны?\n",
    "- Являются ли эти различия статистически значимыми?\n",
    "- Стоит ли запускать новую механику на всех пользователей?"
   ]
  },
  {
   "cell_type": "markdown",
   "id": "0c82f4fd-edea-439b-806b-02d1d8895b39",
   "metadata": {},
   "source": [
    "#### Загрузим данные и сделаем предобработку"
   ]
  },
  {
   "cell_type": "code",
   "execution_count": 6,
   "id": "05fe2bf5-b7a9-4fc2-9b13-a64cf1455be9",
   "metadata": {},
   "outputs": [],
   "source": [
    "import pandas as pd\n",
    "import numpy as np\n",
    "import seaborn as sns\n",
    "import matplotlib.pyplot as plt\n",
    "import requests\n",
    "from urllib.parse import urlencode\n",
    "import pingouin as pg\n",
    "import scipy\n",
    "from tqdm.auto import tqdm\n",
    "from scipy.stats import norm\n",
    "import pandahouse as ph\n",
    "import warnings\n",
    "warnings.filterwarnings('ignore')\n",
    "\n",
    "%matplotlib inline"
   ]
  },
  {
   "cell_type": "code",
   "execution_count": 7,
   "id": "5b9e522a-d4bd-4fdd-80fc-b6babc6fc5a3",
   "metadata": {},
   "outputs": [],
   "source": [
    "base_url = 'https://cloud-api.yandex.net/v1/disk/public/resources/download?'\n",
    "\n",
    "public_key_groups = 'https://disk.yandex.ru/d/UhyYx41rTt3clQ'\n",
    "public_key_groups_add = 'https://disk.yandex.ru/d/5Kxrz02m3IBUwQ'\n",
    "public_key_active_studs = 'https://disk.yandex.ru/d/Tbs44Bm6H_FwFQ'\n",
    "public_key_checks = 'https://disk.yandex.ru/d/pH1q-VqcxXjsVA'"
   ]
  },
  {
   "cell_type": "code",
   "execution_count": 8,
   "id": "52c4d457-9cf7-4b43-91fe-a74a107fe004",
   "metadata": {},
   "outputs": [],
   "source": [
    "# определим функцию для считывания данных \n",
    "def get_frame(base_url, public_key, sep=';'):\n",
    "    \n",
    "    final_url = base_url + urlencode(dict(public_key=public_key))\n",
    "    response = requests.get(final_url)\n",
    "    download_url = response.json()['href']\n",
    "    download_response = requests.get(download_url)\n",
    "    return pd.read_csv(download_url, sep=sep)"
   ]
  },
  {
   "cell_type": "code",
   "execution_count": 9,
   "id": "aac789ef-c172-44ab-9623-311881b040b7",
   "metadata": {},
   "outputs": [],
   "source": [
    "groups = get_frame(base_url, public_key_groups)\n",
    "groups_add = get_frame(base_url, public_key_groups_add, sep=',')\n",
    "active_studs = get_frame(base_url, public_key_active_studs)\n",
    "checks = get_frame(base_url, public_key_checks)"
   ]
  },
  {
   "cell_type": "markdown",
   "id": "8d2ea96e-f5d0-4415-83e8-d6d6c64f01e3",
   "metadata": {},
   "source": [
    "#### Посмотрим на данные с разбивкой пользователей по группам в таблице 'groups'"
   ]
  },
  {
   "cell_type": "code",
   "execution_count": 10,
   "id": "abfcdcd5-ca82-4831-8010-281359f527d4",
   "metadata": {},
   "outputs": [
    {
     "data": {
      "text/html": [
       "<div>\n",
       "<style scoped>\n",
       "    .dataframe tbody tr th:only-of-type {\n",
       "        vertical-align: middle;\n",
       "    }\n",
       "\n",
       "    .dataframe tbody tr th {\n",
       "        vertical-align: top;\n",
       "    }\n",
       "\n",
       "    .dataframe thead th {\n",
       "        text-align: right;\n",
       "    }\n",
       "</style>\n",
       "<table border=\"1\" class=\"dataframe\">\n",
       "  <thead>\n",
       "    <tr style=\"text-align: right;\">\n",
       "      <th></th>\n",
       "      <th>id</th>\n",
       "      <th>grp</th>\n",
       "    </tr>\n",
       "  </thead>\n",
       "  <tbody>\n",
       "    <tr>\n",
       "      <th>0</th>\n",
       "      <td>1489</td>\n",
       "      <td>B</td>\n",
       "    </tr>\n",
       "    <tr>\n",
       "      <th>1</th>\n",
       "      <td>1627</td>\n",
       "      <td>A</td>\n",
       "    </tr>\n",
       "    <tr>\n",
       "      <th>2</th>\n",
       "      <td>1768</td>\n",
       "      <td>B</td>\n",
       "    </tr>\n",
       "    <tr>\n",
       "      <th>3</th>\n",
       "      <td>1783</td>\n",
       "      <td>B</td>\n",
       "    </tr>\n",
       "    <tr>\n",
       "      <th>4</th>\n",
       "      <td>1794</td>\n",
       "      <td>A</td>\n",
       "    </tr>\n",
       "  </tbody>\n",
       "</table>\n",
       "</div>"
      ],
      "text/plain": [
       "     id grp\n",
       "0  1489   B\n",
       "1  1627   A\n",
       "2  1768   B\n",
       "3  1783   B\n",
       "4  1794   A"
      ]
     },
     "execution_count": 10,
     "metadata": {},
     "output_type": "execute_result"
    }
   ],
   "source": [
    "groups.head()"
   ]
  },
  {
   "cell_type": "code",
   "execution_count": 11,
   "id": "279436b5-7340-4a87-b5de-813298d68f30",
   "metadata": {},
   "outputs": [
    {
     "name": "stdout",
     "output_type": "stream",
     "text": [
      "<class 'pandas.core.frame.DataFrame'>\n",
      "RangeIndex: 74484 entries, 0 to 74483\n",
      "Data columns (total 2 columns):\n",
      " #   Column  Non-Null Count  Dtype \n",
      "---  ------  --------------  ----- \n",
      " 0   id      74484 non-null  int64 \n",
      " 1   grp     74484 non-null  object\n",
      "dtypes: int64(1), object(1)\n",
      "memory usage: 1.1+ MB\n"
     ]
    }
   ],
   "source": [
    "groups.info()"
   ]
  },
  {
   "cell_type": "code",
   "execution_count": 12,
   "id": "0ab369f7-8758-43bc-a833-9812f99359c8",
   "metadata": {},
   "outputs": [
    {
     "data": {
      "text/plain": [
       "0"
      ]
     },
     "execution_count": 12,
     "metadata": {},
     "output_type": "execute_result"
    }
   ],
   "source": [
    "groups.duplicated().sum()"
   ]
  },
  {
   "cell_type": "code",
   "execution_count": 13,
   "id": "4c5e9cff-f345-466d-be90-edb53d343665",
   "metadata": {},
   "outputs": [
    {
     "data": {
      "text/plain": [
       "grp\n",
       "B    59813\n",
       "A    14671\n",
       "Name: count, dtype: int64"
      ]
     },
     "execution_count": 13,
     "metadata": {},
     "output_type": "execute_result"
    }
   ],
   "source": [
    "groups['grp'].value_counts()"
   ]
  },
  {
   "cell_type": "markdown",
   "id": "12d9f239-6e3b-4fdc-a0df-d544748d73a8",
   "metadata": {},
   "source": [
    "В таблице groups содержится информация о 74484 пользователях. В контрольной группе - 14671, а в целевой группе - 59813 пользователей соответственно. В данных отсутствуют дубликаты и пропущенные значения."
   ]
  },
  {
   "cell_type": "markdown",
   "id": "aebd5e51-522f-48e8-a9e4-d218d2d25d79",
   "metadata": {},
   "source": [
    "#### Посмотрим на данные, полученные через 2 дня, в таблице 'groups_add'"
   ]
  },
  {
   "cell_type": "code",
   "execution_count": 14,
   "id": "c9638601-e63e-4198-a47e-72252e642336",
   "metadata": {},
   "outputs": [
    {
     "data": {
      "text/html": [
       "<div>\n",
       "<style scoped>\n",
       "    .dataframe tbody tr th:only-of-type {\n",
       "        vertical-align: middle;\n",
       "    }\n",
       "\n",
       "    .dataframe tbody tr th {\n",
       "        vertical-align: top;\n",
       "    }\n",
       "\n",
       "    .dataframe thead th {\n",
       "        text-align: right;\n",
       "    }\n",
       "</style>\n",
       "<table border=\"1\" class=\"dataframe\">\n",
       "  <thead>\n",
       "    <tr style=\"text-align: right;\">\n",
       "      <th></th>\n",
       "      <th>id</th>\n",
       "      <th>grp</th>\n",
       "    </tr>\n",
       "  </thead>\n",
       "  <tbody>\n",
       "    <tr>\n",
       "      <th>0</th>\n",
       "      <td>5694584</td>\n",
       "      <td>B</td>\n",
       "    </tr>\n",
       "    <tr>\n",
       "      <th>1</th>\n",
       "      <td>5694830</td>\n",
       "      <td>B</td>\n",
       "    </tr>\n",
       "    <tr>\n",
       "      <th>2</th>\n",
       "      <td>5695057</td>\n",
       "      <td>B</td>\n",
       "    </tr>\n",
       "    <tr>\n",
       "      <th>3</th>\n",
       "      <td>5698872</td>\n",
       "      <td>B</td>\n",
       "    </tr>\n",
       "    <tr>\n",
       "      <th>4</th>\n",
       "      <td>5699067</td>\n",
       "      <td>B</td>\n",
       "    </tr>\n",
       "  </tbody>\n",
       "</table>\n",
       "</div>"
      ],
      "text/plain": [
       "        id grp\n",
       "0  5694584   B\n",
       "1  5694830   B\n",
       "2  5695057   B\n",
       "3  5698872   B\n",
       "4  5699067   B"
      ]
     },
     "execution_count": 14,
     "metadata": {},
     "output_type": "execute_result"
    }
   ],
   "source": [
    "groups_add.head()"
   ]
  },
  {
   "cell_type": "code",
   "execution_count": 15,
   "id": "f6ecd9db-9dda-4ab4-b27e-1c6fe1c522d3",
   "metadata": {},
   "outputs": [
    {
     "name": "stdout",
     "output_type": "stream",
     "text": [
      "<class 'pandas.core.frame.DataFrame'>\n",
      "RangeIndex: 92 entries, 0 to 91\n",
      "Data columns (total 2 columns):\n",
      " #   Column  Non-Null Count  Dtype \n",
      "---  ------  --------------  ----- \n",
      " 0   id      92 non-null     int64 \n",
      " 1   grp     92 non-null     object\n",
      "dtypes: int64(1), object(1)\n",
      "memory usage: 1.6+ KB\n"
     ]
    }
   ],
   "source": [
    "groups_add.info()"
   ]
  },
  {
   "cell_type": "code",
   "execution_count": 16,
   "id": "6d8b258a-f4e7-4750-8efb-1970c5aa405a",
   "metadata": {},
   "outputs": [
    {
     "data": {
      "text/plain": [
       "0"
      ]
     },
     "execution_count": 16,
     "metadata": {},
     "output_type": "execute_result"
    }
   ],
   "source": [
    "groups_add.duplicated().sum()"
   ]
  },
  {
   "cell_type": "code",
   "execution_count": 17,
   "id": "a0742d47-b56c-42f2-bab3-908a421beb8d",
   "metadata": {},
   "outputs": [
    {
     "data": {
      "text/plain": [
       "grp\n",
       "B    70\n",
       "A    22\n",
       "Name: count, dtype: int64"
      ]
     },
     "execution_count": 17,
     "metadata": {},
     "output_type": "execute_result"
    }
   ],
   "source": [
    "groups_add.grp.value_counts()"
   ]
  },
  {
   "cell_type": "markdown",
   "id": "817ffbdb-e30e-4ec3-bbb5-e9ec0521fdd0",
   "metadata": {},
   "source": [
    "В таблице groups_add содержится информация о 92 пользователях, информация о которых была получена спустя два дня после передачи данных. В контрольной группе - 22, а в целевой группе - 70 пользователей соответственно. В данных отсутствуют дубликаты и пропущенные значения."
   ]
  },
  {
   "cell_type": "markdown",
   "id": "92b0d20a-00a7-498a-8b5e-f248d323f038",
   "metadata": {},
   "source": [
    "Добавим пользователей, информацию о которых получили через 2 дня, к уже имеющимся"
   ]
  },
  {
   "cell_type": "code",
   "execution_count": 18,
   "id": "6640ff20-4ffe-4202-809b-29209eae7e43",
   "metadata": {},
   "outputs": [],
   "source": [
    "#объединим таблицы с пользователями\n",
    "groups_full = pd.concat([groups, groups_add])"
   ]
  },
  {
   "cell_type": "code",
   "execution_count": 19,
   "id": "14bd8ca0-4249-40b8-8e14-0deebe0748cf",
   "metadata": {},
   "outputs": [
    {
     "data": {
      "text/plain": [
       "set()"
      ]
     },
     "execution_count": 19,
     "metadata": {},
     "output_type": "execute_result"
    }
   ],
   "source": [
    "# посмотрим нет ли пересечений пользователей между группами\n",
    "control_group_users = groups_full.loc[groups_full['grp'] == 'A']['id']\n",
    "test_group_users = groups_full.loc[groups_full['grp'] == 'B']['id']\n",
    "\n",
    "set(control_group_users).intersection(set(test_group_users)) "
   ]
  },
  {
   "cell_type": "markdown",
   "id": "a6c5f6af-88f3-4c4d-8897-e7dadcc22afd",
   "metadata": {},
   "source": [
    "Пересечений пользователей между группами нет"
   ]
  },
  {
   "cell_type": "markdown",
   "id": "e6bcea8e-15c2-4897-a770-10942ab17fa5",
   "metadata": {},
   "source": [
    "#### Посмотрим на данные пользователей, которые заходили на сайт во время эксперимента в таблице 'active_studs'"
   ]
  },
  {
   "cell_type": "code",
   "execution_count": 20,
   "id": "4105d13a-e679-4c9d-9769-3a31f4843923",
   "metadata": {},
   "outputs": [
    {
     "data": {
      "text/html": [
       "<div>\n",
       "<style scoped>\n",
       "    .dataframe tbody tr th:only-of-type {\n",
       "        vertical-align: middle;\n",
       "    }\n",
       "\n",
       "    .dataframe tbody tr th {\n",
       "        vertical-align: top;\n",
       "    }\n",
       "\n",
       "    .dataframe thead th {\n",
       "        text-align: right;\n",
       "    }\n",
       "</style>\n",
       "<table border=\"1\" class=\"dataframe\">\n",
       "  <thead>\n",
       "    <tr style=\"text-align: right;\">\n",
       "      <th></th>\n",
       "      <th>student_id</th>\n",
       "    </tr>\n",
       "  </thead>\n",
       "  <tbody>\n",
       "    <tr>\n",
       "      <th>0</th>\n",
       "      <td>581585</td>\n",
       "    </tr>\n",
       "    <tr>\n",
       "      <th>1</th>\n",
       "      <td>5723133</td>\n",
       "    </tr>\n",
       "    <tr>\n",
       "      <th>2</th>\n",
       "      <td>3276743</td>\n",
       "    </tr>\n",
       "    <tr>\n",
       "      <th>3</th>\n",
       "      <td>4238589</td>\n",
       "    </tr>\n",
       "    <tr>\n",
       "      <th>4</th>\n",
       "      <td>4475369</td>\n",
       "    </tr>\n",
       "  </tbody>\n",
       "</table>\n",
       "</div>"
      ],
      "text/plain": [
       "   student_id\n",
       "0      581585\n",
       "1     5723133\n",
       "2     3276743\n",
       "3     4238589\n",
       "4     4475369"
      ]
     },
     "execution_count": 20,
     "metadata": {},
     "output_type": "execute_result"
    }
   ],
   "source": [
    "active_studs.head()"
   ]
  },
  {
   "cell_type": "code",
   "execution_count": 21,
   "id": "e60c9e34-20ea-4832-9e8f-a61a59908de6",
   "metadata": {},
   "outputs": [
    {
     "name": "stdout",
     "output_type": "stream",
     "text": [
      "<class 'pandas.core.frame.DataFrame'>\n",
      "RangeIndex: 8341 entries, 0 to 8340\n",
      "Data columns (total 1 columns):\n",
      " #   Column      Non-Null Count  Dtype\n",
      "---  ------      --------------  -----\n",
      " 0   student_id  8341 non-null   int64\n",
      "dtypes: int64(1)\n",
      "memory usage: 65.3 KB\n"
     ]
    }
   ],
   "source": [
    "active_studs.info()"
   ]
  },
  {
   "cell_type": "code",
   "execution_count": 22,
   "id": "e9786cce-655f-4e5b-bd72-38b256be607c",
   "metadata": {},
   "outputs": [
    {
     "data": {
      "text/plain": [
       "0"
      ]
     },
     "execution_count": 22,
     "metadata": {},
     "output_type": "execute_result"
    }
   ],
   "source": [
    "active_studs.duplicated().sum()"
   ]
  },
  {
   "cell_type": "markdown",
   "id": "24fb47eb-92a1-4b10-a37d-bfa500ac0192",
   "metadata": {},
   "source": [
    "В дни проведения эксперимента на сайт зашли 8341 уникальных пользователя. В данных нет дубликатов и пропущенных значений."
   ]
  },
  {
   "cell_type": "markdown",
   "id": "3fa08fb6-689a-4783-bf6e-4ffecb69c947",
   "metadata": {},
   "source": [
    "#### Посмотрим на данные пользователей об оплате в таблице 'checks'"
   ]
  },
  {
   "cell_type": "code",
   "execution_count": 23,
   "id": "73c8b203-cb4c-4349-9556-a178756a5cc6",
   "metadata": {},
   "outputs": [
    {
     "data": {
      "text/html": [
       "<div>\n",
       "<style scoped>\n",
       "    .dataframe tbody tr th:only-of-type {\n",
       "        vertical-align: middle;\n",
       "    }\n",
       "\n",
       "    .dataframe tbody tr th {\n",
       "        vertical-align: top;\n",
       "    }\n",
       "\n",
       "    .dataframe thead th {\n",
       "        text-align: right;\n",
       "    }\n",
       "</style>\n",
       "<table border=\"1\" class=\"dataframe\">\n",
       "  <thead>\n",
       "    <tr style=\"text-align: right;\">\n",
       "      <th></th>\n",
       "      <th>student_id</th>\n",
       "      <th>rev</th>\n",
       "    </tr>\n",
       "  </thead>\n",
       "  <tbody>\n",
       "    <tr>\n",
       "      <th>0</th>\n",
       "      <td>1627</td>\n",
       "      <td>990.0</td>\n",
       "    </tr>\n",
       "    <tr>\n",
       "      <th>1</th>\n",
       "      <td>3185</td>\n",
       "      <td>690.0</td>\n",
       "    </tr>\n",
       "    <tr>\n",
       "      <th>2</th>\n",
       "      <td>25973</td>\n",
       "      <td>690.0</td>\n",
       "    </tr>\n",
       "    <tr>\n",
       "      <th>3</th>\n",
       "      <td>26280</td>\n",
       "      <td>690.0</td>\n",
       "    </tr>\n",
       "    <tr>\n",
       "      <th>4</th>\n",
       "      <td>100300</td>\n",
       "      <td>990.0</td>\n",
       "    </tr>\n",
       "  </tbody>\n",
       "</table>\n",
       "</div>"
      ],
      "text/plain": [
       "   student_id    rev\n",
       "0        1627  990.0\n",
       "1        3185  690.0\n",
       "2       25973  690.0\n",
       "3       26280  690.0\n",
       "4      100300  990.0"
      ]
     },
     "execution_count": 23,
     "metadata": {},
     "output_type": "execute_result"
    }
   ],
   "source": [
    "checks.head()"
   ]
  },
  {
   "cell_type": "code",
   "execution_count": 24,
   "id": "12358e6d-e9ee-4db1-8611-8d4fbfed38b6",
   "metadata": {},
   "outputs": [
    {
     "name": "stdout",
     "output_type": "stream",
     "text": [
      "<class 'pandas.core.frame.DataFrame'>\n",
      "RangeIndex: 541 entries, 0 to 540\n",
      "Data columns (total 2 columns):\n",
      " #   Column      Non-Null Count  Dtype  \n",
      "---  ------      --------------  -----  \n",
      " 0   student_id  541 non-null    int64  \n",
      " 1   rev         541 non-null    float64\n",
      "dtypes: float64(1), int64(1)\n",
      "memory usage: 8.6 KB\n"
     ]
    }
   ],
   "source": [
    "checks.info()"
   ]
  },
  {
   "cell_type": "code",
   "execution_count": 25,
   "id": "c1a86a50-5123-4e69-b4f1-7ccd144a0d19",
   "metadata": {},
   "outputs": [
    {
     "data": {
      "text/plain": [
       "array([ 199.    ,  290.    ,  398.    ,  489.    ,  580.    ,  590.    ,\n",
       "        597.    ,  630.    ,  690.    ,  796.    ,  840.    ,  870.    ,\n",
       "        880.    ,  990.    , 1039.    , 1050.    , 1140.    , 1160.    ,\n",
       "       1180.    , 1339.    , 1388.    , 1530.    , 1729.    , 1830.    ,\n",
       "       1900.    , 1900.0001, 1968.    , 1980.    , 2099.    , 2190.    ,\n",
       "       2220.    , 2820.    , 2890.    , 2900.    , 2910.    , 3040.    ,\n",
       "       3260.    , 3660.    , 4650.    ])"
      ]
     },
     "execution_count": 25,
     "metadata": {},
     "output_type": "execute_result"
    }
   ],
   "source": [
    "np.sort(checks.rev.unique())"
   ]
  },
  {
   "cell_type": "markdown",
   "id": "d5486f90-d47e-4683-a6bc-cbfb950f53c2",
   "metadata": {},
   "source": [
    "В данных есть записи, где оплата равна 1900.0001, что может быть связано с ошибкой округления."
   ]
  },
  {
   "cell_type": "code",
   "execution_count": 26,
   "id": "8ae7388d-2d40-42be-9f13-8929763a33e6",
   "metadata": {},
   "outputs": [
    {
     "data": {
      "text/plain": [
       "541"
      ]
     },
     "execution_count": 26,
     "metadata": {},
     "output_type": "execute_result"
    }
   ],
   "source": [
    "checks.student_id.nunique() "
   ]
  },
  {
   "cell_type": "markdown",
   "id": "10c69a6a-a374-4669-b842-06047bf3454e",
   "metadata": {},
   "source": [
    "Всего за время проведения эксперимента пользователи совершили 541 покупку. При этом каждый пользователь совершил всего одну покупку."
   ]
  },
  {
   "cell_type": "markdown",
   "id": "6d2ec017-9564-46e8-aec8-a1cb0808042e",
   "metadata": {},
   "source": [
    "#### Объединим данные"
   ]
  },
  {
   "cell_type": "markdown",
   "id": "4fa429db-4b1a-4dc4-98ea-820f6ce0376e",
   "metadata": {},
   "source": [
    "Объединим данные о группах, активных пользователях и фактах оплаты в один датафрейм"
   ]
  },
  {
   "cell_type": "code",
   "execution_count": 27,
   "id": "394b8a91-adba-4358-a5b7-0a8a6cdecc02",
   "metadata": {},
   "outputs": [],
   "source": [
    "full = groups_full.copy()"
   ]
  },
  {
   "cell_type": "markdown",
   "id": "fb920b42-befc-45ae-afb2-b3918b64c0f4",
   "metadata": {},
   "source": [
    "Колонка \"active\" будет содержать информацию об активности пользователя во время эксперимента. Если пользователь заходил на сайт, то занчение равно True, если нет - False"
   ]
  },
  {
   "cell_type": "code",
   "execution_count": 28,
   "id": "8c139066-1331-491e-b72e-5a7424e93c25",
   "metadata": {},
   "outputs": [],
   "source": [
    "full['active'] = full['id'].isin(active_studs['student_id'])"
   ]
  },
  {
   "cell_type": "markdown",
   "id": "731c8f2c-6837-415a-a0a5-3cce2de5f317",
   "metadata": {},
   "source": [
    "Колонка \"made_purchase\" будет содержать информацию о фактах оплаты пользователя во время эксперимента. Если пользователь совершил оплату на сайте, то занчение равно True, если нет - False"
   ]
  },
  {
   "cell_type": "code",
   "execution_count": 29,
   "id": "5f0f24d6-439d-4679-a5ab-dbc46421583c",
   "metadata": {},
   "outputs": [],
   "source": [
    "full['made_purchase'] = full['id'].isin(checks['student_id'])"
   ]
  },
  {
   "cell_type": "code",
   "execution_count": 30,
   "id": "0904b50f-0213-4d3c-b28c-465018a24b32",
   "metadata": {},
   "outputs": [
    {
     "data": {
      "text/html": [
       "<div>\n",
       "<style scoped>\n",
       "    .dataframe tbody tr th:only-of-type {\n",
       "        vertical-align: middle;\n",
       "    }\n",
       "\n",
       "    .dataframe tbody tr th {\n",
       "        vertical-align: top;\n",
       "    }\n",
       "\n",
       "    .dataframe thead th {\n",
       "        text-align: right;\n",
       "    }\n",
       "</style>\n",
       "<table border=\"1\" class=\"dataframe\">\n",
       "  <thead>\n",
       "    <tr style=\"text-align: right;\">\n",
       "      <th></th>\n",
       "      <th>id</th>\n",
       "      <th>grp</th>\n",
       "      <th>active</th>\n",
       "      <th>made_purchase</th>\n",
       "      <th>rev</th>\n",
       "    </tr>\n",
       "  </thead>\n",
       "  <tbody>\n",
       "    <tr>\n",
       "      <th>0</th>\n",
       "      <td>1489</td>\n",
       "      <td>B</td>\n",
       "      <td>False</td>\n",
       "      <td>False</td>\n",
       "      <td>0.0</td>\n",
       "    </tr>\n",
       "    <tr>\n",
       "      <th>1</th>\n",
       "      <td>1627</td>\n",
       "      <td>A</td>\n",
       "      <td>True</td>\n",
       "      <td>True</td>\n",
       "      <td>990.0</td>\n",
       "    </tr>\n",
       "    <tr>\n",
       "      <th>2</th>\n",
       "      <td>1768</td>\n",
       "      <td>B</td>\n",
       "      <td>False</td>\n",
       "      <td>False</td>\n",
       "      <td>0.0</td>\n",
       "    </tr>\n",
       "    <tr>\n",
       "      <th>3</th>\n",
       "      <td>1783</td>\n",
       "      <td>B</td>\n",
       "      <td>False</td>\n",
       "      <td>False</td>\n",
       "      <td>0.0</td>\n",
       "    </tr>\n",
       "    <tr>\n",
       "      <th>4</th>\n",
       "      <td>1794</td>\n",
       "      <td>A</td>\n",
       "      <td>False</td>\n",
       "      <td>False</td>\n",
       "      <td>0.0</td>\n",
       "    </tr>\n",
       "  </tbody>\n",
       "</table>\n",
       "</div>"
      ],
      "text/plain": [
       "     id grp  active  made_purchase    rev\n",
       "0  1489   B   False          False    0.0\n",
       "1  1627   A    True           True  990.0\n",
       "2  1768   B   False          False    0.0\n",
       "3  1783   B   False          False    0.0\n",
       "4  1794   A   False          False    0.0"
      ]
     },
     "execution_count": 30,
     "metadata": {},
     "output_type": "execute_result"
    }
   ],
   "source": [
    "#соединим таблицы full и checks и заменим NaN в колонке \"rev\" на нули\n",
    "full = full.merge(checks, how='left', left_on='id', right_on='student_id').fillna(0)\n",
    "full.drop(columns=['student_id'], inplace=True)\n",
    "full.head()"
   ]
  },
  {
   "cell_type": "markdown",
   "id": "48fb0d15-e616-406e-b7f9-c9469499cd13",
   "metadata": {},
   "source": [
    "Посмотрим были ли пользователи, которые не заходили на сайт, но совершили оплату"
   ]
  },
  {
   "cell_type": "code",
   "execution_count": 31,
   "id": "1061ef53-0484-41e9-aae8-05355630bacb",
   "metadata": {},
   "outputs": [
    {
     "data": {
      "text/html": [
       "<div>\n",
       "<style scoped>\n",
       "    .dataframe tbody tr th:only-of-type {\n",
       "        vertical-align: middle;\n",
       "    }\n",
       "\n",
       "    .dataframe tbody tr th {\n",
       "        vertical-align: top;\n",
       "    }\n",
       "\n",
       "    .dataframe thead th {\n",
       "        text-align: right;\n",
       "    }\n",
       "</style>\n",
       "<table border=\"1\" class=\"dataframe\">\n",
       "  <thead>\n",
       "    <tr style=\"text-align: right;\">\n",
       "      <th></th>\n",
       "      <th>id</th>\n",
       "      <th>grp</th>\n",
       "      <th>active</th>\n",
       "      <th>made_purchase</th>\n",
       "      <th>rev</th>\n",
       "    </tr>\n",
       "  </thead>\n",
       "  <tbody>\n",
       "    <tr>\n",
       "      <th>39</th>\n",
       "      <td>3185</td>\n",
       "      <td>B</td>\n",
       "      <td>False</td>\n",
       "      <td>True</td>\n",
       "      <td>690.0</td>\n",
       "    </tr>\n",
       "    <tr>\n",
       "      <th>121</th>\n",
       "      <td>25973</td>\n",
       "      <td>B</td>\n",
       "      <td>False</td>\n",
       "      <td>True</td>\n",
       "      <td>690.0</td>\n",
       "    </tr>\n",
       "    <tr>\n",
       "      <th>125</th>\n",
       "      <td>26280</td>\n",
       "      <td>B</td>\n",
       "      <td>False</td>\n",
       "      <td>True</td>\n",
       "      <td>690.0</td>\n",
       "    </tr>\n",
       "    <tr>\n",
       "      <th>223</th>\n",
       "      <td>100645</td>\n",
       "      <td>B</td>\n",
       "      <td>False</td>\n",
       "      <td>True</td>\n",
       "      <td>630.0</td>\n",
       "    </tr>\n",
       "    <tr>\n",
       "      <th>254</th>\n",
       "      <td>102534</td>\n",
       "      <td>B</td>\n",
       "      <td>False</td>\n",
       "      <td>True</td>\n",
       "      <td>580.0</td>\n",
       "    </tr>\n",
       "    <tr>\n",
       "      <th>...</th>\n",
       "      <td>...</td>\n",
       "      <td>...</td>\n",
       "      <td>...</td>\n",
       "      <td>...</td>\n",
       "      <td>...</td>\n",
       "    </tr>\n",
       "    <tr>\n",
       "      <th>72452</th>\n",
       "      <td>5291900</td>\n",
       "      <td>B</td>\n",
       "      <td>False</td>\n",
       "      <td>True</td>\n",
       "      <td>199.0</td>\n",
       "    </tr>\n",
       "    <tr>\n",
       "      <th>72753</th>\n",
       "      <td>5331842</td>\n",
       "      <td>B</td>\n",
       "      <td>False</td>\n",
       "      <td>True</td>\n",
       "      <td>290.0</td>\n",
       "    </tr>\n",
       "    <tr>\n",
       "      <th>73632</th>\n",
       "      <td>5486319</td>\n",
       "      <td>B</td>\n",
       "      <td>False</td>\n",
       "      <td>True</td>\n",
       "      <td>199.0</td>\n",
       "    </tr>\n",
       "    <tr>\n",
       "      <th>74049</th>\n",
       "      <td>5562806</td>\n",
       "      <td>B</td>\n",
       "      <td>False</td>\n",
       "      <td>True</td>\n",
       "      <td>398.0</td>\n",
       "    </tr>\n",
       "    <tr>\n",
       "      <th>74216</th>\n",
       "      <td>5599663</td>\n",
       "      <td>B</td>\n",
       "      <td>False</td>\n",
       "      <td>True</td>\n",
       "      <td>1900.0</td>\n",
       "    </tr>\n",
       "  </tbody>\n",
       "</table>\n",
       "<p>149 rows × 5 columns</p>\n",
       "</div>"
      ],
      "text/plain": [
       "            id grp  active  made_purchase     rev\n",
       "39        3185   B   False           True   690.0\n",
       "121      25973   B   False           True   690.0\n",
       "125      26280   B   False           True   690.0\n",
       "223     100645   B   False           True   630.0\n",
       "254     102534   B   False           True   580.0\n",
       "...        ...  ..     ...            ...     ...\n",
       "72452  5291900   B   False           True   199.0\n",
       "72753  5331842   B   False           True   290.0\n",
       "73632  5486319   B   False           True   199.0\n",
       "74049  5562806   B   False           True   398.0\n",
       "74216  5599663   B   False           True  1900.0\n",
       "\n",
       "[149 rows x 5 columns]"
      ]
     },
     "execution_count": 31,
     "metadata": {},
     "output_type": "execute_result"
    }
   ],
   "source": [
    "full.loc[(full['active'] == False) & (full['made_purchase'])]"
   ]
  },
  {
   "cell_type": "code",
   "execution_count": 32,
   "id": "39001313-d1aa-4c27-9f94-a248de236977",
   "metadata": {},
   "outputs": [
    {
     "data": {
      "text/plain": [
       "grp\n",
       "B    120\n",
       "A     29\n",
       "Name: count, dtype: int64"
      ]
     },
     "execution_count": 32,
     "metadata": {},
     "output_type": "execute_result"
    }
   ],
   "source": [
    "full.loc[(full['active'] == False) & (full['made_purchase'])].grp.value_counts()"
   ]
  },
  {
   "cell_type": "markdown",
   "id": "8be44f63-64a8-4f0a-864c-114ff10f8ed2",
   "metadata": {},
   "source": [
    "В данных есть 149 пользователей, которые не посещали сайт во время эксперимента, но совершили оплату. Среди них 120 пользователей из целевой группы и 29 из контрольной. Исходя из имеющихся данных нельзя сказать почему так произошло, поэтому будем считать эти данные некорректными и исклюим их из дальнейших вычислений."
   ]
  },
  {
   "cell_type": "code",
   "execution_count": 33,
   "id": "7a92730d-ad10-4fa0-9f9a-9ebd271e4b67",
   "metadata": {},
   "outputs": [],
   "source": [
    "#Исключим некорректные данные из датафрейма\n",
    "fail_data_id = full.loc[(full['active'] == False) & (full['made_purchase'])].id\n",
    "full = full.loc[~full['id'].isin(fail_data_id)]"
   ]
  },
  {
   "cell_type": "code",
   "execution_count": 34,
   "id": "b00b9684-03f0-49b9-b530-2b256ba79a23",
   "metadata": {},
   "outputs": [
    {
     "data": {
      "text/html": [
       "<div>\n",
       "<style scoped>\n",
       "    .dataframe tbody tr th:only-of-type {\n",
       "        vertical-align: middle;\n",
       "    }\n",
       "\n",
       "    .dataframe tbody tr th {\n",
       "        vertical-align: top;\n",
       "    }\n",
       "\n",
       "    .dataframe thead th {\n",
       "        text-align: right;\n",
       "    }\n",
       "</style>\n",
       "<table border=\"1\" class=\"dataframe\">\n",
       "  <thead>\n",
       "    <tr style=\"text-align: right;\">\n",
       "      <th></th>\n",
       "      <th>id</th>\n",
       "      <th>grp</th>\n",
       "      <th>active</th>\n",
       "      <th>made_purchase</th>\n",
       "      <th>rev</th>\n",
       "    </tr>\n",
       "  </thead>\n",
       "  <tbody>\n",
       "    <tr>\n",
       "      <th>0</th>\n",
       "      <td>1489</td>\n",
       "      <td>B</td>\n",
       "      <td>False</td>\n",
       "      <td>False</td>\n",
       "      <td>0.0</td>\n",
       "    </tr>\n",
       "    <tr>\n",
       "      <th>1</th>\n",
       "      <td>1627</td>\n",
       "      <td>A</td>\n",
       "      <td>True</td>\n",
       "      <td>True</td>\n",
       "      <td>990.0</td>\n",
       "    </tr>\n",
       "    <tr>\n",
       "      <th>2</th>\n",
       "      <td>1768</td>\n",
       "      <td>B</td>\n",
       "      <td>False</td>\n",
       "      <td>False</td>\n",
       "      <td>0.0</td>\n",
       "    </tr>\n",
       "    <tr>\n",
       "      <th>3</th>\n",
       "      <td>1783</td>\n",
       "      <td>B</td>\n",
       "      <td>False</td>\n",
       "      <td>False</td>\n",
       "      <td>0.0</td>\n",
       "    </tr>\n",
       "    <tr>\n",
       "      <th>4</th>\n",
       "      <td>1794</td>\n",
       "      <td>A</td>\n",
       "      <td>False</td>\n",
       "      <td>False</td>\n",
       "      <td>0.0</td>\n",
       "    </tr>\n",
       "  </tbody>\n",
       "</table>\n",
       "</div>"
      ],
      "text/plain": [
       "     id grp  active  made_purchase    rev\n",
       "0  1489   B   False          False    0.0\n",
       "1  1627   A    True           True  990.0\n",
       "2  1768   B   False          False    0.0\n",
       "3  1783   B   False          False    0.0\n",
       "4  1794   A   False          False    0.0"
      ]
     },
     "execution_count": 34,
     "metadata": {},
     "output_type": "execute_result"
    }
   ],
   "source": [
    "full.head()"
   ]
  },
  {
   "cell_type": "code",
   "execution_count": 35,
   "id": "38e5bfa4-b4ee-4179-b2f7-c150d8fa0d16",
   "metadata": {},
   "outputs": [
    {
     "data": {
      "text/plain": [
       "(74427, 5)"
      ]
     },
     "execution_count": 35,
     "metadata": {},
     "output_type": "execute_result"
    }
   ],
   "source": [
    "full.shape"
   ]
  },
  {
   "cell_type": "code",
   "execution_count": 36,
   "id": "a9b903b7-3b24-4d9f-afd7-0f55ce81f0da",
   "metadata": {},
   "outputs": [
    {
     "data": {
      "text/plain": [
       "active           8341\n",
       "made_purchase     392\n",
       "dtype: int64"
      ]
     },
     "execution_count": 36,
     "metadata": {},
     "output_type": "execute_result"
    }
   ],
   "source": [
    "full[['active', 'made_purchase']].sum()"
   ]
  },
  {
   "cell_type": "code",
   "execution_count": 37,
   "id": "bf6c24bc-145b-4fcc-a9a6-5564b4968de9",
   "metadata": {},
   "outputs": [
    {
     "data": {
      "text/plain": [
       "grp\n",
       "B    59763\n",
       "A    14664\n",
       "Name: count, dtype: int64"
      ]
     },
     "execution_count": 37,
     "metadata": {},
     "output_type": "execute_result"
    }
   ],
   "source": [
    "full.grp.value_counts()"
   ]
  },
  {
   "cell_type": "markdown",
   "id": "6534cfdc-c16d-4e35-828d-c425f532c6b5",
   "metadata": {},
   "source": [
    "#### Посмотрим более детально на чеки пользователей в целевой и контрольной группах"
   ]
  },
  {
   "cell_type": "code",
   "execution_count": 38,
   "id": "18488f85-0e79-4fdd-9006-dd81d49dc9b9",
   "metadata": {},
   "outputs": [
    {
     "data": {
      "text/html": [
       "<div>\n",
       "<style scoped>\n",
       "    .dataframe tbody tr th:only-of-type {\n",
       "        vertical-align: middle;\n",
       "    }\n",
       "\n",
       "    .dataframe tbody tr th {\n",
       "        vertical-align: top;\n",
       "    }\n",
       "\n",
       "    .dataframe thead th {\n",
       "        text-align: right;\n",
       "    }\n",
       "</style>\n",
       "<table border=\"1\" class=\"dataframe\">\n",
       "  <thead>\n",
       "    <tr style=\"text-align: right;\">\n",
       "      <th></th>\n",
       "      <th>count</th>\n",
       "      <th>mean</th>\n",
       "      <th>std</th>\n",
       "      <th>min</th>\n",
       "      <th>25%</th>\n",
       "      <th>50%</th>\n",
       "      <th>75%</th>\n",
       "      <th>max</th>\n",
       "    </tr>\n",
       "    <tr>\n",
       "      <th>grp</th>\n",
       "      <th></th>\n",
       "      <th></th>\n",
       "      <th></th>\n",
       "      <th></th>\n",
       "      <th></th>\n",
       "      <th></th>\n",
       "      <th></th>\n",
       "      <th></th>\n",
       "    </tr>\n",
       "  </thead>\n",
       "  <tbody>\n",
       "    <tr>\n",
       "      <th>A</th>\n",
       "      <td>14664.0</td>\n",
       "      <td>4.965903</td>\n",
       "      <td>95.162132</td>\n",
       "      <td>0.0</td>\n",
       "      <td>0.0</td>\n",
       "      <td>0.0</td>\n",
       "      <td>0.0</td>\n",
       "      <td>3660.0</td>\n",
       "    </tr>\n",
       "    <tr>\n",
       "      <th>B</th>\n",
       "      <td>59763.0</td>\n",
       "      <td>6.609006</td>\n",
       "      <td>107.450602</td>\n",
       "      <td>0.0</td>\n",
       "      <td>0.0</td>\n",
       "      <td>0.0</td>\n",
       "      <td>0.0</td>\n",
       "      <td>4650.0</td>\n",
       "    </tr>\n",
       "  </tbody>\n",
       "</table>\n",
       "</div>"
      ],
      "text/plain": [
       "       count      mean         std  min  25%  50%  75%     max\n",
       "grp                                                           \n",
       "A    14664.0  4.965903   95.162132  0.0  0.0  0.0  0.0  3660.0\n",
       "B    59763.0  6.609006  107.450602  0.0  0.0  0.0  0.0  4650.0"
      ]
     },
     "execution_count": 38,
     "metadata": {},
     "output_type": "execute_result"
    }
   ],
   "source": [
    "full.groupby('grp').rev.describe()"
   ]
  },
  {
   "cell_type": "code",
   "execution_count": 39,
   "id": "70dfbe17-ecff-48a8-8ca4-375f9cb875a4",
   "metadata": {},
   "outputs": [
    {
     "data": {
      "image/png": "[encoded data removed]",
      "text/plain": [
       "<Figure size 600x400 with 1 Axes>"
      ]
     },
     "metadata": {},
     "output_type": "display_data"
    }
   ],
   "source": [
    "# посмотрим на покупки пользователей в разных группах с помощью boxplot\n",
    "fig, ax = plt.subplots(figsize=(6,4))\n",
    "sns.boxplot(data=full, x='rev', y='grp', hue='grp')\n",
    "ax.set_title('Распределение чеков')\n",
    "ax.set_xlabel('сумма чека')\n",
    "ax.set_ylabel('группы')\n",
    "sns.despine()"
   ]
  },
  {
   "cell_type": "markdown",
   "id": "88c69ab5-54c0-4e4d-8cdf-4138d32f90ad",
   "metadata": {},
   "source": [
    "Такое распределение получилось из-за того, что многие пользователи не совершали покупок. Посмотрим на распределение покупок среди платящих пользователей."
   ]
  },
  {
   "cell_type": "code",
   "execution_count": 40,
   "id": "42dc0eb9-6122-42ad-a79d-d5bfc107f7a9",
   "metadata": {},
   "outputs": [],
   "source": [
    "# платящие пользователи\n",
    "paying_users = full.loc[full['made_purchase']]"
   ]
  },
  {
   "cell_type": "code",
   "execution_count": 41,
   "id": "732b4c3f-52fa-4446-a7d1-c0447a469c0f",
   "metadata": {},
   "outputs": [
    {
     "data": {
      "text/html": [
       "<div>\n",
       "<style scoped>\n",
       "    .dataframe tbody tr th:only-of-type {\n",
       "        vertical-align: middle;\n",
       "    }\n",
       "\n",
       "    .dataframe tbody tr th {\n",
       "        vertical-align: top;\n",
       "    }\n",
       "\n",
       "    .dataframe thead th {\n",
       "        text-align: right;\n",
       "    }\n",
       "</style>\n",
       "<table border=\"1\" class=\"dataframe\">\n",
       "  <thead>\n",
       "    <tr style=\"text-align: right;\">\n",
       "      <th></th>\n",
       "      <th>count</th>\n",
       "      <th>mean</th>\n",
       "      <th>std</th>\n",
       "      <th>min</th>\n",
       "      <th>25%</th>\n",
       "      <th>50%</th>\n",
       "      <th>75%</th>\n",
       "      <th>max</th>\n",
       "    </tr>\n",
       "    <tr>\n",
       "      <th>grp</th>\n",
       "      <th></th>\n",
       "      <th></th>\n",
       "      <th></th>\n",
       "      <th></th>\n",
       "      <th></th>\n",
       "      <th></th>\n",
       "      <th></th>\n",
       "      <th></th>\n",
       "    </tr>\n",
       "  </thead>\n",
       "  <tbody>\n",
       "    <tr>\n",
       "      <th>A</th>\n",
       "      <td>78.0</td>\n",
       "      <td>933.589744</td>\n",
       "      <td>919.932711</td>\n",
       "      <td>199.0</td>\n",
       "      <td>290.00</td>\n",
       "      <td>585.0</td>\n",
       "      <td>1114.75</td>\n",
       "      <td>3660.0</td>\n",
       "    </tr>\n",
       "    <tr>\n",
       "      <th>B</th>\n",
       "      <td>314.0</td>\n",
       "      <td>1257.878992</td>\n",
       "      <td>790.864254</td>\n",
       "      <td>199.0</td>\n",
       "      <td>511.75</td>\n",
       "      <td>1140.0</td>\n",
       "      <td>1900.00</td>\n",
       "      <td>4650.0</td>\n",
       "    </tr>\n",
       "  </tbody>\n",
       "</table>\n",
       "</div>"
      ],
      "text/plain": [
       "     count         mean         std    min     25%     50%      75%     max\n",
       "grp                                                                        \n",
       "A     78.0   933.589744  919.932711  199.0  290.00   585.0  1114.75  3660.0\n",
       "B    314.0  1257.878992  790.864254  199.0  511.75  1140.0  1900.00  4650.0"
      ]
     },
     "execution_count": 41,
     "metadata": {},
     "output_type": "execute_result"
    }
   ],
   "source": [
    "paying_users.groupby('grp').rev.describe()"
   ]
  },
  {
   "cell_type": "code",
   "execution_count": 42,
   "id": "d52bb73c-1b8a-4eda-a26c-c6a0def97e89",
   "metadata": {},
   "outputs": [
    {
     "data": {
      "image/png": "[encoded data removed]",
      "text/plain": [
       "<Figure size 800x600 with 2 Axes>"
      ]
     },
     "metadata": {},
     "output_type": "display_data"
    }
   ],
   "source": [
    "# посмотрим на покупки платящих пользователей в разных группах\n",
    "fig, ax = plt.subplots(2, 1, figsize=(8,6), sharex=True)\n",
    "sns.boxplot(data=full.loc[full['made_purchase']], x='rev', y='grp', hue='grp', palette='coolwarm', legend='full', ax=ax[0])\n",
    "sns.histplot(data=full.loc[full['made_purchase']], x='rev', hue='grp', palette='coolwarm', ax=ax[1])\n",
    "ax[0].set_title('Распределение чеков среди платящих пользователей\\n')\n",
    "ax[1].set_xlabel('сумма чека')\n",
    "ax[1].set_ylabel('количество пользователей')\n",
    "ax[0].set_ylabel('группы\\n')\n",
    "fig.tight_layout()\n",
    "sns.despine()"
   ]
  },
  {
   "cell_type": "code",
   "execution_count": 43,
   "id": "0b588d3c-bfb5-420a-bc03-ea2b3d45bccc",
   "metadata": {},
   "outputs": [
    {
     "data": {
      "image/png": "[encoded data removed]",
      "text/plain": [
       "<Figure size 1000x600 with 1 Axes>"
      ]
     },
     "metadata": {},
     "output_type": "display_data"
    }
   ],
   "source": [
    "fig, ax = plt.subplots(figsize=(10,6))\n",
    "sns.countplot(data=full.loc[full['made_purchase']], y='rev', hue='grp', palette='coolwarm')\n",
    "ax.set_title('Чеки в различных группах\\n')\n",
    "ax.set_xlabel('количество чеков')\n",
    "ax.set_ylabel('сумма чека')\n",
    "ax.bar_label(ax.containers[0])\n",
    "sns.despine()"
   ]
  },
  {
   "cell_type": "markdown",
   "id": "ec0a0f4a-583b-497f-b3f6-9820b2477dd5",
   "metadata": {},
   "source": [
    "Найдем долю пользователей, которые заплатили 1900.0"
   ]
  },
  {
   "cell_type": "code",
   "execution_count": 44,
   "id": "55574bac-d064-4b4c-aa93-bfe74694ca18",
   "metadata": {},
   "outputs": [
    {
     "data": {
      "text/plain": [
       "23.72"
      ]
     },
     "execution_count": 44,
     "metadata": {},
     "output_type": "execute_result"
    }
   ],
   "source": [
    "np.round(full.loc[full['made_purchase'] & (full['rev'] == 1900.0)].id.count() /\n",
    "         full.loc[full['made_purchase']].id.count() * 100, 2)"
   ]
  },
  {
   "cell_type": "markdown",
   "id": "bd4b1c25-c753-4129-b257-1b6267155e1f",
   "metadata": {},
   "source": [
    "По графику видно, что целевой группе пользователи в среднем тратили больше. В обоих группах есть незначительные выбросы. На последнем графике видна некоторая аномалия: 93 (23.72% от всех платящих пользователей) пользователя в целевой группе имеют чек на 1900 ед. и еще 35 пользователей имеют чек на 1900.0001 ед. в то время как в контрольной группе таких пользователей нет."
   ]
  },
  {
   "cell_type": "markdown",
   "id": "52a97f31-92d2-418f-870b-880a45a893fb",
   "metadata": {},
   "source": [
    "#### Выводы"
   ]
  },
  {
   "cell_type": "markdown",
   "id": "4ade7e98-f81b-4458-bc00-0adbc2b0a707",
   "metadata": {},
   "source": [
    "Были загружены и изучены данные.  \n",
    "Данные содержат информацию о 74427 пользователях: 59763 - в целевой и 14664 в контрольной группах соответственно. Из них 8341 пользователей посетили сайт во время эксперимента и 392 (314 в целевой группе и 78 в контрольной) пользователя сделали покупку. \n",
    "\n",
    "В данных не обнаружено дубликатов и пропущенных значений. Была найдена некоторая аномалия: обнаружены пользователи (149 пользователей), которые не заходили на сайт во время проведения эксперимента, однако совершили оплату. Было принято решение считать эти данные некорректными и исключить их из дальнейших расчетов. Возможно эти неточности в данных могут быть связаны с ошибками при логировании данных о совершении оплаты. \n",
    "\n",
    "Распределение чеков пользователей в целевой группе смещено в сторону более высоких значений, чем в контрольной. Но при этом было обнаружено, что в целевой группе 93 пользователя совершили покупку на 1900.0 ед., что составляет 23.72% от всех платящих пользователей, в то время как в контрольной группе пользователей с такими чеками нет. Это может быть связано с новой механикой оплаты, возможно в новой версии предлагаются какие то акции, где чек или минимальная оплата должна быть 1900.0, но исходя из имеющихся данных это невозможно проверить. Также в целевой группе есть 35 пользователей с чеками на 1900.0001 ед., что наверняка является ошибкой округления при сборе данных.\n"
   ]
  },
  {
   "cell_type": "markdown",
   "id": "86a18d79-7329-4127-87ea-b7928bf0170c",
   "metadata": {},
   "source": [
    "#### Выбор метрик"
   ]
  },
  {
   "cell_type": "markdown",
   "id": "f338195d-3edc-4c07-bc84-42ba06d0e76c",
   "metadata": {},
   "source": [
    "Выберем метрики, по которым будем оценивать эффективность новой механики оплаты"
   ]
  },
  {
   "cell_type": "markdown",
   "id": "3db5ea6c-597a-4669-89f7-c791fa22bd35",
   "metadata": {},
   "source": [
    "1. Конверсия из посещения сайта в покупку\n",
    "\n",
    "По имеющимся данным можно составить простую воронку сайта:\n",
    "\n",
    "Все пользователи сайта >> пользователи, зашедвие на сайт >> пользователи, совершившие покупку\n",
    "\n",
    "Поскольку новая механика оплаты не должна влиять на решение пользователя зайти на сайт, то для оценки эффективности новой механики оплаты будем использовать конверсию из посещения сайта в покупку.\n",
    "\n",
    "Конверсия в данном случае будет отражать эффективность новой механики оплаты на сайте. Чем понятнее и удобнее сделаны условия оплаты, тем меньше должны быть потери на этом этапе воронки, а значит и конверсия должна быть выше."
   ]
  },
  {
   "cell_type": "markdown",
   "id": "6a28fd57-45bd-4434-8efa-04afcd89a355",
   "metadata": {},
   "source": [
    "2. ARPAU - средняя выручка на активного пользователя\n",
    "\n",
    "Так как новая механика оплаты не могла повлиять на пользователей не заходивших на сайт, то для расчета средней выручки на пользователя будем учитывать только активных пользователей.\n",
    "\n",
    "Показывает сколько в среднем активные пользователи тратят на сайте. Эта метрика помогает оценить ценность сайта с точки зрения пользователей. Если новая мехника оплаты стала лучше, то и ARPAU должен вырасти.  "
   ]
  },
  {
   "cell_type": "markdown",
   "id": "00903ab0-8553-465a-a204-c8b1cc86bdac",
   "metadata": {},
   "source": [
    "3. ARPPU - средняя выручка на платящего пользователя\n",
    "\n",
    "Показывает сколько платящие пользователи в среднем тратят на сайте. Эта метрика должна помочь оценить изменения в механике оплаты именно с точки зрения покупателя.\n"
   ]
  },
  {
   "cell_type": "markdown",
   "id": "a1c8fc96-efce-439d-b2a4-4c89343ee1e2",
   "metadata": {},
   "source": [
    "#### Расчет метрик"
   ]
  },
  {
   "cell_type": "code",
   "execution_count": 45,
   "id": "f0924572-c9e6-455a-9327-a94d6b229786",
   "metadata": {},
   "outputs": [
    {
     "data": {
      "text/html": [
       "<div>\n",
       "<style scoped>\n",
       "    .dataframe tbody tr th:only-of-type {\n",
       "        vertical-align: middle;\n",
       "    }\n",
       "\n",
       "    .dataframe tbody tr th {\n",
       "        vertical-align: top;\n",
       "    }\n",
       "\n",
       "    .dataframe thead th {\n",
       "        text-align: right;\n",
       "    }\n",
       "</style>\n",
       "<table border=\"1\" class=\"dataframe\">\n",
       "  <thead>\n",
       "    <tr style=\"text-align: right;\">\n",
       "      <th></th>\n",
       "      <th>id</th>\n",
       "      <th>grp</th>\n",
       "      <th>active</th>\n",
       "      <th>made_purchase</th>\n",
       "      <th>rev</th>\n",
       "    </tr>\n",
       "  </thead>\n",
       "  <tbody>\n",
       "    <tr>\n",
       "      <th>0</th>\n",
       "      <td>1489</td>\n",
       "      <td>B</td>\n",
       "      <td>False</td>\n",
       "      <td>False</td>\n",
       "      <td>0.0</td>\n",
       "    </tr>\n",
       "    <tr>\n",
       "      <th>1</th>\n",
       "      <td>1627</td>\n",
       "      <td>A</td>\n",
       "      <td>True</td>\n",
       "      <td>True</td>\n",
       "      <td>990.0</td>\n",
       "    </tr>\n",
       "    <tr>\n",
       "      <th>2</th>\n",
       "      <td>1768</td>\n",
       "      <td>B</td>\n",
       "      <td>False</td>\n",
       "      <td>False</td>\n",
       "      <td>0.0</td>\n",
       "    </tr>\n",
       "    <tr>\n",
       "      <th>3</th>\n",
       "      <td>1783</td>\n",
       "      <td>B</td>\n",
       "      <td>False</td>\n",
       "      <td>False</td>\n",
       "      <td>0.0</td>\n",
       "    </tr>\n",
       "    <tr>\n",
       "      <th>4</th>\n",
       "      <td>1794</td>\n",
       "      <td>A</td>\n",
       "      <td>False</td>\n",
       "      <td>False</td>\n",
       "      <td>0.0</td>\n",
       "    </tr>\n",
       "  </tbody>\n",
       "</table>\n",
       "</div>"
      ],
      "text/plain": [
       "     id grp  active  made_purchase    rev\n",
       "0  1489   B   False          False    0.0\n",
       "1  1627   A    True           True  990.0\n",
       "2  1768   B   False          False    0.0\n",
       "3  1783   B   False          False    0.0\n",
       "4  1794   A   False          False    0.0"
      ]
     },
     "execution_count": 45,
     "metadata": {},
     "output_type": "execute_result"
    }
   ],
   "source": [
    "full.head()"
   ]
  },
  {
   "cell_type": "markdown",
   "id": "9747bc42-2d2d-4751-9c2a-a6501d1f20b6",
   "metadata": {},
   "source": [
    "Определим конверсию из посещения сайта в покупку в целевой и контрольной группах в процентах"
   ]
  },
  {
   "cell_type": "code",
   "execution_count": 46,
   "id": "6f20ae68-e04c-4b12-918b-cc06110b44d8",
   "metadata": {},
   "outputs": [
    {
     "data": {
      "text/html": [
       "<div>\n",
       "<style scoped>\n",
       "    .dataframe tbody tr th:only-of-type {\n",
       "        vertical-align: middle;\n",
       "    }\n",
       "\n",
       "    .dataframe tbody tr th {\n",
       "        vertical-align: top;\n",
       "    }\n",
       "\n",
       "    .dataframe thead th {\n",
       "        text-align: right;\n",
       "    }\n",
       "</style>\n",
       "<table border=\"1\" class=\"dataframe\">\n",
       "  <thead>\n",
       "    <tr style=\"text-align: right;\">\n",
       "      <th></th>\n",
       "      <th>grp</th>\n",
       "      <th>cr</th>\n",
       "    </tr>\n",
       "  </thead>\n",
       "  <tbody>\n",
       "    <tr>\n",
       "      <th>0</th>\n",
       "      <td>A</td>\n",
       "      <td>5.07</td>\n",
       "    </tr>\n",
       "    <tr>\n",
       "      <th>1</th>\n",
       "      <td>B</td>\n",
       "      <td>4.62</td>\n",
       "    </tr>\n",
       "  </tbody>\n",
       "</table>\n",
       "</div>"
      ],
      "text/plain": [
       "  grp    cr\n",
       "0   A  5.07\n",
       "1   B  4.62"
      ]
     },
     "execution_count": 46,
     "metadata": {},
     "output_type": "execute_result"
    }
   ],
   "source": [
    "cr = full.loc[full['active']].groupby('grp', as_index=False) \\\n",
    "                                    .agg({'made_purchase':'mean'}) \\\n",
    "                                    .rename(columns={'made_purchase':'cr'}) \n",
    "cr['cr'] = cr['cr'].apply(lambda x: round(x * 100, 2))\n",
    "cr"
   ]
  },
  {
   "cell_type": "markdown",
   "id": "fa98bc27-fd27-4112-9e24-7852818131b6",
   "metadata": {},
   "source": [
    "Конверсия в целевой группе уменьшилась по сравнению с контрольной"
   ]
  },
  {
   "cell_type": "markdown",
   "id": "65be1f5b-0ed8-4cec-8588-2b9893a4da08",
   "metadata": {},
   "source": [
    "Расчитаем ARPAU и ARPPU для целевой и контрольной групп"
   ]
  },
  {
   "cell_type": "code",
   "execution_count": 47,
   "id": "b4394580-7722-4c67-9832-fea3f1de9a58",
   "metadata": {},
   "outputs": [
    {
     "data": {
      "text/html": [
       "<div>\n",
       "<style scoped>\n",
       "    .dataframe tbody tr th:only-of-type {\n",
       "        vertical-align: middle;\n",
       "    }\n",
       "\n",
       "    .dataframe tbody tr th {\n",
       "        vertical-align: top;\n",
       "    }\n",
       "\n",
       "    .dataframe thead th {\n",
       "        text-align: right;\n",
       "    }\n",
       "</style>\n",
       "<table border=\"1\" class=\"dataframe\">\n",
       "  <thead>\n",
       "    <tr style=\"text-align: right;\">\n",
       "      <th></th>\n",
       "      <th>grp</th>\n",
       "      <th>arpau</th>\n",
       "    </tr>\n",
       "  </thead>\n",
       "  <tbody>\n",
       "    <tr>\n",
       "      <th>0</th>\n",
       "      <td>A</td>\n",
       "      <td>47.347</td>\n",
       "    </tr>\n",
       "    <tr>\n",
       "      <th>1</th>\n",
       "      <td>B</td>\n",
       "      <td>58.059</td>\n",
       "    </tr>\n",
       "  </tbody>\n",
       "</table>\n",
       "</div>"
      ],
      "text/plain": [
       "  grp   arpau\n",
       "0   A  47.347\n",
       "1   B  58.059"
      ]
     },
     "execution_count": 47,
     "metadata": {},
     "output_type": "execute_result"
    }
   ],
   "source": [
    "arpau = full.loc[full['active']].groupby(['id', 'grp'], as_index=False) \\\n",
    "            .agg({'rev':'sum'}) \\\n",
    "            .groupby('grp', as_index=False) \\\n",
    "            .agg({'rev':'mean'}) \\\n",
    "            .rename(columns={'rev':'arpau'}) \\\n",
    "            .round(3)\n",
    "arpau"
   ]
  },
  {
   "cell_type": "code",
   "execution_count": 48,
   "id": "38176584-4080-44a8-b838-59de9c5a116d",
   "metadata": {},
   "outputs": [
    {
     "data": {
      "text/html": [
       "<div>\n",
       "<style scoped>\n",
       "    .dataframe tbody tr th:only-of-type {\n",
       "        vertical-align: middle;\n",
       "    }\n",
       "\n",
       "    .dataframe tbody tr th {\n",
       "        vertical-align: top;\n",
       "    }\n",
       "\n",
       "    .dataframe thead th {\n",
       "        text-align: right;\n",
       "    }\n",
       "</style>\n",
       "<table border=\"1\" class=\"dataframe\">\n",
       "  <thead>\n",
       "    <tr style=\"text-align: right;\">\n",
       "      <th></th>\n",
       "      <th>grp</th>\n",
       "      <th>arppu</th>\n",
       "    </tr>\n",
       "  </thead>\n",
       "  <tbody>\n",
       "    <tr>\n",
       "      <th>0</th>\n",
       "      <td>A</td>\n",
       "      <td>933.590</td>\n",
       "    </tr>\n",
       "    <tr>\n",
       "      <th>1</th>\n",
       "      <td>B</td>\n",
       "      <td>1257.879</td>\n",
       "    </tr>\n",
       "  </tbody>\n",
       "</table>\n",
       "</div>"
      ],
      "text/plain": [
       "  grp     arppu\n",
       "0   A   933.590\n",
       "1   B  1257.879"
      ]
     },
     "execution_count": 48,
     "metadata": {},
     "output_type": "execute_result"
    }
   ],
   "source": [
    "arppu = full.loc[full['made_purchase']].groupby(['id', 'grp'], as_index=False) \\\n",
    "                                            .agg({'rev':'sum'}) \\\n",
    "                                            .groupby('grp', as_index=False) \\\n",
    "                                            .agg({'rev':'mean'}) \\\n",
    "                                            .rename(columns={'rev':'arppu'}) \\\n",
    "                                            .round(3)\n",
    "arppu                           "
   ]
  },
  {
   "cell_type": "markdown",
   "id": "a7dbbb6b-b26f-4b87-aa3d-9a38187a9bbe",
   "metadata": {},
   "source": [
    "Соберем метрики вместе"
   ]
  },
  {
   "cell_type": "code",
   "execution_count": 49,
   "id": "b953a2b7-9219-41d2-ac7f-24eb125ef8ef",
   "metadata": {},
   "outputs": [
    {
     "data": {
      "text/html": [
       "<div>\n",
       "<style scoped>\n",
       "    .dataframe tbody tr th:only-of-type {\n",
       "        vertical-align: middle;\n",
       "    }\n",
       "\n",
       "    .dataframe tbody tr th {\n",
       "        vertical-align: top;\n",
       "    }\n",
       "\n",
       "    .dataframe thead th {\n",
       "        text-align: right;\n",
       "    }\n",
       "</style>\n",
       "<table border=\"1\" class=\"dataframe\">\n",
       "  <thead>\n",
       "    <tr style=\"text-align: right;\">\n",
       "      <th></th>\n",
       "      <th>grp</th>\n",
       "      <th>cr</th>\n",
       "      <th>arpau</th>\n",
       "      <th>arppu</th>\n",
       "    </tr>\n",
       "  </thead>\n",
       "  <tbody>\n",
       "    <tr>\n",
       "      <th>0</th>\n",
       "      <td>A</td>\n",
       "      <td>5.07</td>\n",
       "      <td>47.347</td>\n",
       "      <td>933.590</td>\n",
       "    </tr>\n",
       "    <tr>\n",
       "      <th>1</th>\n",
       "      <td>B</td>\n",
       "      <td>4.62</td>\n",
       "      <td>58.059</td>\n",
       "      <td>1257.879</td>\n",
       "    </tr>\n",
       "  </tbody>\n",
       "</table>\n",
       "</div>"
      ],
      "text/plain": [
       "  grp    cr   arpau     arppu\n",
       "0   A  5.07  47.347   933.590\n",
       "1   B  4.62  58.059  1257.879"
      ]
     },
     "execution_count": 49,
     "metadata": {},
     "output_type": "execute_result"
    }
   ],
   "source": [
    "metrics = cr.merge(arpau, on='grp') \\\n",
    "            .merge(arppu, on='grp')\n",
    "metrics"
   ]
  },
  {
   "cell_type": "markdown",
   "id": "212295bf-615b-4285-a157-131aaa60ec6c",
   "metadata": {},
   "source": [
    "Конверсия в покупку в целевой группе оказалась меньше, чем в контрольной. В то же время ARPAU (средняя выручка на активного пользователя) и ARPPU (средняя выручка на платящего пользователя) выросли. Выросли также и медиана и мода чеков, что видно из графиков распределений. На первый взгляд можно сказать, что новая механика положительно повлияла на поведение пользователей. Проверим статистическую значимость наблюдаемых различий."
   ]
  },
  {
   "cell_type": "markdown",
   "id": "4eebdfb4-c347-48cb-87c1-d204ed002f13",
   "metadata": {},
   "source": [
    "#### Проверка гипотез"
   ]
  },
  {
   "cell_type": "markdown",
   "id": "f6c40db7-251f-4c02-bfd8-f57ae7cd183e",
   "metadata": {},
   "source": [
    "#### Гипотеза №1. Конверсия в покупку уменьшилась"
   ]
  },
  {
   "cell_type": "markdown",
   "id": "f4c1d76a-39f2-440f-a741-f0b4fb0a0fc7",
   "metadata": {},
   "source": [
    "Н0: различий в конверсиях в покупку между группами нет  \n",
    "Н1: конверсия в покупку уменьшилась"
   ]
  },
  {
   "cell_type": "markdown",
   "id": "11b738dc-c3e5-4afb-90ac-d99dbbb0cfc1",
   "metadata": {},
   "source": [
    "Проверим наблюдаемые различия в конверсиях методом Хи-квадрат."
   ]
  },
  {
   "cell_type": "code",
   "execution_count": 50,
   "id": "a2eed59b-4e41-41a7-8436-1a59695d4ca3",
   "metadata": {},
   "outputs": [
    {
     "data": {
      "text/html": [
       "<div>\n",
       "<style scoped>\n",
       "    .dataframe tbody tr th:only-of-type {\n",
       "        vertical-align: middle;\n",
       "    }\n",
       "\n",
       "    .dataframe tbody tr th {\n",
       "        vertical-align: top;\n",
       "    }\n",
       "\n",
       "    .dataframe thead th {\n",
       "        text-align: right;\n",
       "    }\n",
       "</style>\n",
       "<table border=\"1\" class=\"dataframe\">\n",
       "  <thead>\n",
       "    <tr style=\"text-align: right;\">\n",
       "      <th></th>\n",
       "      <th>test</th>\n",
       "      <th>lambda</th>\n",
       "      <th>chi2</th>\n",
       "      <th>dof</th>\n",
       "      <th>pval</th>\n",
       "      <th>cramer</th>\n",
       "      <th>power</th>\n",
       "    </tr>\n",
       "  </thead>\n",
       "  <tbody>\n",
       "    <tr>\n",
       "      <th>0</th>\n",
       "      <td>pearson</td>\n",
       "      <td>1.000000</td>\n",
       "      <td>0.484808</td>\n",
       "      <td>1.0</td>\n",
       "      <td>0.486252</td>\n",
       "      <td>0.007624</td>\n",
       "      <td>0.107123</td>\n",
       "    </tr>\n",
       "    <tr>\n",
       "      <th>1</th>\n",
       "      <td>cressie-read</td>\n",
       "      <td>0.666667</td>\n",
       "      <td>0.482018</td>\n",
       "      <td>1.0</td>\n",
       "      <td>0.487510</td>\n",
       "      <td>0.007602</td>\n",
       "      <td>0.106787</td>\n",
       "    </tr>\n",
       "    <tr>\n",
       "      <th>2</th>\n",
       "      <td>log-likelihood</td>\n",
       "      <td>0.000000</td>\n",
       "      <td>0.476541</td>\n",
       "      <td>1.0</td>\n",
       "      <td>0.489993</td>\n",
       "      <td>0.007559</td>\n",
       "      <td>0.106127</td>\n",
       "    </tr>\n",
       "    <tr>\n",
       "      <th>3</th>\n",
       "      <td>freeman-tukey</td>\n",
       "      <td>-0.500000</td>\n",
       "      <td>0.472522</td>\n",
       "      <td>1.0</td>\n",
       "      <td>0.491829</td>\n",
       "      <td>0.007527</td>\n",
       "      <td>0.105643</td>\n",
       "    </tr>\n",
       "    <tr>\n",
       "      <th>4</th>\n",
       "      <td>mod-log-likelihood</td>\n",
       "      <td>-1.000000</td>\n",
       "      <td>0.468578</td>\n",
       "      <td>1.0</td>\n",
       "      <td>0.493642</td>\n",
       "      <td>0.007495</td>\n",
       "      <td>0.105168</td>\n",
       "    </tr>\n",
       "    <tr>\n",
       "      <th>5</th>\n",
       "      <td>neyman</td>\n",
       "      <td>-2.000000</td>\n",
       "      <td>0.460909</td>\n",
       "      <td>1.0</td>\n",
       "      <td>0.497200</td>\n",
       "      <td>0.007434</td>\n",
       "      <td>0.104245</td>\n",
       "    </tr>\n",
       "  </tbody>\n",
       "</table>\n",
       "</div>"
      ],
      "text/plain": [
       "                 test    lambda      chi2  dof      pval    cramer     power\n",
       "0             pearson  1.000000  0.484808  1.0  0.486252  0.007624  0.107123\n",
       "1        cressie-read  0.666667  0.482018  1.0  0.487510  0.007602  0.106787\n",
       "2      log-likelihood  0.000000  0.476541  1.0  0.489993  0.007559  0.106127\n",
       "3       freeman-tukey -0.500000  0.472522  1.0  0.491829  0.007527  0.105643\n",
       "4  mod-log-likelihood -1.000000  0.468578  1.0  0.493642  0.007495  0.105168\n",
       "5              neyman -2.000000  0.460909  1.0  0.497200  0.007434  0.104245"
      ]
     },
     "execution_count": 50,
     "metadata": {},
     "output_type": "execute_result"
    }
   ],
   "source": [
    "expected, observed, stats = pg.chi2_independence(data=full.loc[full['active']], x='grp', y='made_purchase')\n",
    "stats"
   ]
  },
  {
   "cell_type": "markdown",
   "id": "c09ac77d-133d-47dc-92f4-1f9cb481e6dd",
   "metadata": {},
   "source": [
    "Все тесты покзали p-value > 0.05, следовательно, у нас недостаточно оснований, чтобы говорить о том, что конверсия в целевой группе статистически значимо уменьшилась."
   ]
  },
  {
   "cell_type": "markdown",
   "id": "78ee2085-e21c-4c88-88cf-0f344419a513",
   "metadata": {},
   "source": [
    "#### Гипотеза №2 ARPAU увеличилась"
   ]
  },
  {
   "cell_type": "markdown",
   "id": "d5337522-c034-45dc-9623-4741bef9770f",
   "metadata": {},
   "source": [
    "Н0: различий в ARPAU между группами нет  \n",
    "Н1: средняя выручка на активного пользователя (ARPAU) увеличилась"
   ]
  },
  {
   "cell_type": "markdown",
   "id": "7ce0c7e7-625a-4b2f-ae6d-f4be56c3bb83",
   "metadata": {},
   "source": [
    "ARPAU это метрика, в основе которой лежит среднее значение, поэтому для проверки гипотезы подходит t-test, так как он сравнивает средние значения. Для использования t-теста необходимо, что бы выполнялись два требования:\n",
    "1. Дисперсии в контрольной и целевой группе должны быть примерно одинаковыми\n",
    "2. Распределение статистики (в нашем случае распределение среднего значения метрики) в группах должно быть нормальным"
   ]
  },
  {
   "cell_type": "markdown",
   "id": "a82feef2-9cce-47ec-b79f-2cfe5be9767e",
   "metadata": {},
   "source": [
    "Проверим требование о гомогенности дисперсий, используя тест Левена"
   ]
  },
  {
   "cell_type": "code",
   "execution_count": 51,
   "id": "2ccdcfd4-dd70-4d75-9fe9-700d7e949529",
   "metadata": {},
   "outputs": [],
   "source": [
    "# чеки в контрольной и целевой группах для активных пользователей\n",
    "control_arpau = full.loc[(full['active']) & (full['grp'] == 'A')].rev\n",
    "test_arpau = full.loc[(full['active']) & (full['grp'] == 'B')].rev"
   ]
  },
  {
   "cell_type": "code",
   "execution_count": 52,
   "id": "db4c9473-4cdf-4da3-b77a-e7d254998814",
   "metadata": {},
   "outputs": [
    {
     "data": {
      "text/plain": [
       "LeveneResult(statistic=1.501460829433639, pvalue=0.22048133327049665)"
      ]
     },
     "execution_count": 52,
     "metadata": {},
     "output_type": "execute_result"
    }
   ],
   "source": [
    "# тест Левена\n",
    "scipy.stats.levene(control_arpau, test_arpau)"
   ]
  },
  {
   "cell_type": "markdown",
   "id": "e5898082-3722-401f-be28-044320ceb3ee",
   "metadata": {},
   "source": [
    "p-value > 0.05, следовательно дисперсии в контрольной и целевой группах можно считать примерно одинаковыми"
   ]
  },
  {
   "cell_type": "markdown",
   "id": "2f1066de-c475-41e1-a535-ab4e03e694e0",
   "metadata": {},
   "source": [
    "Теперь проверим требование о нормальности распределения статистики в контрольной и целевой группах"
   ]
  },
  {
   "cell_type": "code",
   "execution_count": 53,
   "id": "8989c9a1-0c50-4331-92fb-63d3391a00eb",
   "metadata": {},
   "outputs": [],
   "source": [
    "# средние значения в контрольной и целевой группах\n",
    "arpau_mean_control = []\n",
    "arpau_mean_test = []"
   ]
  },
  {
   "cell_type": "code",
   "execution_count": 54,
   "id": "3ead3d86-2b39-40ea-9b53-7efc16c7f83b",
   "metadata": {},
   "outputs": [],
   "source": [
    "# просемплируем нашу выборку 10000 раз, чтобы получить распределение среднего значения метрики\n",
    "for i in range(10000):\n",
    "    control_sample = full.loc[(full['active']) & (full['grp'] == 'A'), 'rev'].sample(frac=1, replace=True)\n",
    "    test_sample = full.loc[(full['active']) & (full['grp'] == 'B'), 'rev'].sample(frac=1, replace=True)\n",
    "    arpau_mean_control.append(control_sample.mean())\n",
    "    arpau_mean_test.append(test_sample.mean())"
   ]
  },
  {
   "cell_type": "code",
   "execution_count": 55,
   "id": "2971ae99-7482-4c64-9d07-2b39b4711a32",
   "metadata": {},
   "outputs": [
    {
     "data": {
      "text/html": [
       "<div>\n",
       "<style scoped>\n",
       "    .dataframe tbody tr th:only-of-type {\n",
       "        vertical-align: middle;\n",
       "    }\n",
       "\n",
       "    .dataframe tbody tr th {\n",
       "        vertical-align: top;\n",
       "    }\n",
       "\n",
       "    .dataframe thead th {\n",
       "        text-align: right;\n",
       "    }\n",
       "</style>\n",
       "<table border=\"1\" class=\"dataframe\">\n",
       "  <thead>\n",
       "    <tr style=\"text-align: right;\">\n",
       "      <th></th>\n",
       "      <th>W</th>\n",
       "      <th>pval</th>\n",
       "      <th>normal</th>\n",
       "    </tr>\n",
       "  </thead>\n",
       "  <tbody>\n",
       "    <tr>\n",
       "      <th>0</th>\n",
       "      <td>2.876288</td>\n",
       "      <td>0.237368</td>\n",
       "      <td>True</td>\n",
       "    </tr>\n",
       "  </tbody>\n",
       "</table>\n",
       "</div>"
      ],
      "text/plain": [
       "          W      pval  normal\n",
       "0  2.876288  0.237368    True"
      ]
     },
     "execution_count": 55,
     "metadata": {},
     "output_type": "execute_result"
    }
   ],
   "source": [
    "# проверим нормальность распределения средних значений для целевой группы\n",
    "pg.normality(data=arpau_mean_test, method='normaltest')"
   ]
  },
  {
   "cell_type": "code",
   "execution_count": 56,
   "id": "be8b9289-fcb0-436b-bcd7-4a3c37da7763",
   "metadata": {},
   "outputs": [
    {
     "data": {
      "text/html": [
       "<div>\n",
       "<style scoped>\n",
       "    .dataframe tbody tr th:only-of-type {\n",
       "        vertical-align: middle;\n",
       "    }\n",
       "\n",
       "    .dataframe tbody tr th {\n",
       "        vertical-align: top;\n",
       "    }\n",
       "\n",
       "    .dataframe thead th {\n",
       "        text-align: right;\n",
       "    }\n",
       "</style>\n",
       "<table border=\"1\" class=\"dataframe\">\n",
       "  <thead>\n",
       "    <tr style=\"text-align: right;\">\n",
       "      <th></th>\n",
       "      <th>W</th>\n",
       "      <th>pval</th>\n",
       "      <th>normal</th>\n",
       "    </tr>\n",
       "  </thead>\n",
       "  <tbody>\n",
       "    <tr>\n",
       "      <th>0</th>\n",
       "      <td>78.110091</td>\n",
       "      <td>1.092972e-17</td>\n",
       "      <td>False</td>\n",
       "    </tr>\n",
       "  </tbody>\n",
       "</table>\n",
       "</div>"
      ],
      "text/plain": [
       "           W          pval  normal\n",
       "0  78.110091  1.092972e-17   False"
      ]
     },
     "execution_count": 56,
     "metadata": {},
     "output_type": "execute_result"
    }
   ],
   "source": [
    "# проверим нормальность данных для контрольной группы\n",
    "pg.normality(data=arpau_mean_control, method='normaltest')"
   ]
  },
  {
   "cell_type": "markdown",
   "id": "b69efc4c-64c4-4b6b-8798-14f29b8fefe8",
   "metadata": {},
   "source": [
    "Распределение среднего значения метрики в целевой и контрольной группах не является нормальным"
   ]
  },
  {
   "cell_type": "markdown",
   "id": "3d11a21f-125a-40c6-8395-5b752dc47d92",
   "metadata": {},
   "source": [
    "Требование гомогенности дисперсий в контрольной и целевой группах выполняется, однако распределение среднего значения метрики в группах не является нормальным. К тому же, учитывая, значительные различия в размерах выборок (1538 в контрольной и 6803 в целевой) и найденные в данных аномалии, лучше отказаться от использования t-теста и воспользоваться методом bootstrap."
   ]
  },
  {
   "cell_type": "code",
   "execution_count": 57,
   "id": "1df79fd9-7700-4389-8058-e36ff8d9f60a",
   "metadata": {},
   "outputs": [],
   "source": [
    "# Объявим функцию, которая позволит проверять гипотезы с помощью bootstrap\n",
    "def get_bootstrap(\n",
    "    data_column_1, # числовые значения первой выборки\n",
    "    data_column_2, # числовые значения второй выборки\n",
    "    boot_it = 1000, # количество бутстрэп-подвыборок\n",
    "    statistic = np.mean, # интересующая нас статистика\n",
    "    bootstrap_conf_level = 0.95 # уровень значимости\n",
    "):\n",
    "    boot_len = max([len(data_column_1), len(data_column_2)])\n",
    "    boot_data = []\n",
    "    for i in tqdm(range(boot_it)): # извлекаем подвыборки\n",
    "        samples_1 = data_column_1.sample(\n",
    "            boot_len, \n",
    "            replace = True # параметр возвращения\n",
    "        ).values\n",
    "        \n",
    "        samples_2 = data_column_2.sample(\n",
    "            boot_len, # чтобы сохранить дисперсию, берем такой же размер выборки\n",
    "            replace = True\n",
    "        ).values\n",
    "        \n",
    "        boot_data.append(statistic(samples_1-samples_2)) \n",
    "    pd_boot_data = pd.DataFrame(boot_data)\n",
    "        \n",
    "    left_quant = (1 - bootstrap_conf_level)/2\n",
    "    right_quant = 1 - (1 - bootstrap_conf_level) / 2\n",
    "    quants = pd_boot_data.quantile([left_quant, right_quant])\n",
    "        \n",
    "    p_1 = norm.cdf(\n",
    "        x = 0, \n",
    "        loc = np.mean(boot_data), \n",
    "        scale = np.std(boot_data)\n",
    "    )\n",
    "    p_2 = norm.cdf(\n",
    "        x = 0, \n",
    "        loc = -np.mean(boot_data), \n",
    "        scale = np.std(boot_data)\n",
    "    )\n",
    "    p_value = min(p_1, p_2) * 2\n",
    "        \n",
    "    # Визуализация\n",
    "    _, _, bars = plt.hist(pd_boot_data[0], bins = 50)\n",
    "    for bar in bars:\n",
    "        if abs(bar.get_x()) <= quants.iloc[0][0] or abs(bar.get_x()) >= quants.iloc[1][0]:\n",
    "            bar.set_facecolor('#CAB9F1')\n",
    "        else: \n",
    "            bar.set_facecolor('grey')\n",
    "            bar.set_edgecolor('black')\n",
    "    \n",
    "    plt.style.use('ggplot')\n",
    "    plt.vlines(quants,ymin=0,ymax=500,linestyle='--', color='grey')\n",
    "    plt.xlabel('boot_data')\n",
    "    plt.ylabel('frequency')\n",
    "    plt.title(\"Histogram of boot_data\")\n",
    "    plt.show()\n",
    "       \n",
    "    return {\"boot_data\": boot_data, \n",
    "            \"quants\": quants, \n",
    "            \"p_value\": p_value}"
   ]
  },
  {
   "cell_type": "code",
   "execution_count": 58,
   "id": "7f2c3fcb-aeaf-4415-8288-0d14564b88c4",
   "metadata": {},
   "outputs": [
    {
     "data": {
      "application/vnd.jupyter.widget-view+json": {
       "model_id": "ae1cf13e35c24cec91e0eae311eee5bf",
       "version_major": 2,
       "version_minor": 0
      },
      "text/plain": [
       "  0%|          | 0/10000 [00:00<?, ?it/s]"
      ]
     },
     "metadata": {},
     "output_type": "display_data"
    },
    {
     "data": {
      "image/png": "[encoded data removed]",
      "text/plain": [
       "<Figure size 640x480 with 1 Axes>"
      ]
     },
     "metadata": {},
     "output_type": "display_data"
    }
   ],
   "source": [
    "# bootstrap\n",
    "arpau_bootstrap = get_bootstrap(control_arpau, test_arpau, boot_it=10000)"
   ]
  },
  {
   "cell_type": "code",
   "execution_count": 59,
   "id": "6e7db03f-2dd8-4137-86f7-b87ab3e58378",
   "metadata": {},
   "outputs": [
    {
     "data": {
      "text/plain": [
       "0.03910533524243103"
      ]
     },
     "execution_count": 59,
     "metadata": {},
     "output_type": "execute_result"
    }
   ],
   "source": [
    "# p-value\n",
    "arpau_bootstrap['p_value']"
   ]
  },
  {
   "cell_type": "code",
   "execution_count": 60,
   "id": "a67205b4-152c-4ba1-a017-cdd9eefa2474",
   "metadata": {},
   "outputs": [
    {
     "data": {
      "text/html": [
       "<div>\n",
       "<style scoped>\n",
       "    .dataframe tbody tr th:only-of-type {\n",
       "        vertical-align: middle;\n",
       "    }\n",
       "\n",
       "    .dataframe tbody tr th {\n",
       "        vertical-align: top;\n",
       "    }\n",
       "\n",
       "    .dataframe thead th {\n",
       "        text-align: right;\n",
       "    }\n",
       "</style>\n",
       "<table border=\"1\" class=\"dataframe\">\n",
       "  <thead>\n",
       "    <tr style=\"text-align: right;\">\n",
       "      <th></th>\n",
       "      <th>0</th>\n",
       "    </tr>\n",
       "  </thead>\n",
       "  <tbody>\n",
       "    <tr>\n",
       "      <th>0.025</th>\n",
       "      <td>-21.052334</td>\n",
       "    </tr>\n",
       "    <tr>\n",
       "      <th>0.975</th>\n",
       "      <td>-0.751654</td>\n",
       "    </tr>\n",
       "  </tbody>\n",
       "</table>\n",
       "</div>"
      ],
      "text/plain": [
       "               0\n",
       "0.025 -21.052334\n",
       "0.975  -0.751654"
      ]
     },
     "execution_count": 60,
     "metadata": {},
     "output_type": "execute_result"
    }
   ],
   "source": [
    "# доверительный интервал\n",
    "arpau_bootstrap['quants']"
   ]
  },
  {
   "cell_type": "markdown",
   "id": "ac6db481-249d-4ebe-a88c-64226f47c241",
   "metadata": {},
   "source": [
    "95%-доверительный интервал не включает 0, следовательно мы можем отвергнуть нулевую гипотезу и с большой долей уверенности утверждать, что ARPAU в целевой группе статистически значимо увеличилась"
   ]
  },
  {
   "cell_type": "markdown",
   "id": "d48b52ee-bb89-4dc2-b8ee-07e0e0517543",
   "metadata": {},
   "source": [
    "#### Гипотеза №3 ARPPU увеличилась"
   ]
  },
  {
   "cell_type": "markdown",
   "id": "41c9a9df-97f1-44b2-82b5-775876e13e8a",
   "metadata": {},
   "source": [
    "Н0: различий в ARPPU между группами нет  \n",
    "Н1: средняя выручка на платящего пользователя (ARPPU) увеличилась"
   ]
  },
  {
   "cell_type": "markdown",
   "id": "77a0bbd9-edc5-4071-a67f-f7902805c75b",
   "metadata": {},
   "source": [
    "Метрика ARPPU также основана на среднем значении, поэтому, как и для предыдущей гипотезы, проверим требование на гомогенность дисперсий и требование о нормальности распределения среднего значения метрики в контрольной и целевой группах"
   ]
  },
  {
   "cell_type": "markdown",
   "id": "35b6f0ca-50e5-4636-86b4-fa02c9310f93",
   "metadata": {},
   "source": [
    "Проверим требование о гомогенности дисперсий, используя тест Левена"
   ]
  },
  {
   "cell_type": "code",
   "execution_count": 61,
   "id": "7e5e3a44-acad-4482-a63c-9d2843cb3b7c",
   "metadata": {},
   "outputs": [],
   "source": [
    "# чеки в контрольной и целевой группах для платящих пользователей\n",
    "control_arppu = full.loc[(full['grp'] == 'A') & (full['made_purchase'])].rev\n",
    "test_arppu = full.loc[(full['grp'] == 'B') & (full['made_purchase'])].rev"
   ]
  },
  {
   "cell_type": "code",
   "execution_count": 62,
   "id": "e8d6b5af-6141-4ad9-9840-39b8efffe563",
   "metadata": {},
   "outputs": [
    {
     "data": {
      "text/plain": [
       "LeveneResult(statistic=3.075681699981606, pvalue=0.08025675761347022)"
      ]
     },
     "execution_count": 62,
     "metadata": {},
     "output_type": "execute_result"
    }
   ],
   "source": [
    "# тест Левена\n",
    "scipy.stats.levene(control_arppu, test_arppu)"
   ]
  },
  {
   "cell_type": "markdown",
   "id": "230710ec-271e-4fd1-8211-827e60436881",
   "metadata": {},
   "source": [
    "p-value > 0.05, следовательно дисперсии в контрольной и целевой группах можно считать примерно одинаковыми"
   ]
  },
  {
   "cell_type": "code",
   "execution_count": 63,
   "id": "db50496c-cdfb-4d5f-a44b-83630e5c339c",
   "metadata": {},
   "outputs": [],
   "source": [
    "# средние значения в контрольной и целевой группах\n",
    "arppu_mean_control = []\n",
    "arppu_mean_test = []"
   ]
  },
  {
   "cell_type": "code",
   "execution_count": 64,
   "id": "f3a0e04c-0763-41b9-bd3c-446f253a9009",
   "metadata": {},
   "outputs": [],
   "source": [
    "# просемплируем нашу выборку 10000 раз, чтобы получить распределение среднего значения метрики\n",
    "for i in range(10000):\n",
    "    control_sample = full.loc[(full['made_purchase']) & (full['grp'] == 'A'), 'rev'].sample(frac=1, replace=True)\n",
    "    test_sample = full.loc[(full['made_purchase']) & (full['grp'] == 'B'), 'rev'].sample(frac=1, replace=True)\n",
    "    arppu_mean_control.append(control_sample.mean())\n",
    "    arppu_mean_test.append(test_sample.mean())"
   ]
  },
  {
   "cell_type": "code",
   "execution_count": 65,
   "id": "f54d91b0-b6eb-43ab-90d6-5335eeb5dc74",
   "metadata": {},
   "outputs": [
    {
     "data": {
      "text/html": [
       "<div>\n",
       "<style scoped>\n",
       "    .dataframe tbody tr th:only-of-type {\n",
       "        vertical-align: middle;\n",
       "    }\n",
       "\n",
       "    .dataframe tbody tr th {\n",
       "        vertical-align: top;\n",
       "    }\n",
       "\n",
       "    .dataframe thead th {\n",
       "        text-align: right;\n",
       "    }\n",
       "</style>\n",
       "<table border=\"1\" class=\"dataframe\">\n",
       "  <thead>\n",
       "    <tr style=\"text-align: right;\">\n",
       "      <th></th>\n",
       "      <th>W</th>\n",
       "      <th>pval</th>\n",
       "      <th>normal</th>\n",
       "    </tr>\n",
       "  </thead>\n",
       "  <tbody>\n",
       "    <tr>\n",
       "      <th>0</th>\n",
       "      <td>1.172512</td>\n",
       "      <td>0.556407</td>\n",
       "      <td>True</td>\n",
       "    </tr>\n",
       "  </tbody>\n",
       "</table>\n",
       "</div>"
      ],
      "text/plain": [
       "          W      pval  normal\n",
       "0  1.172512  0.556407    True"
      ]
     },
     "execution_count": 65,
     "metadata": {},
     "output_type": "execute_result"
    }
   ],
   "source": [
    "# проверим нормальность средних значений для целевой группы\n",
    "pg.normality(data=arppu_mean_test, method='normaltest')"
   ]
  },
  {
   "cell_type": "code",
   "execution_count": 66,
   "id": "855e7bbc-186f-4925-a124-34747dcb02af",
   "metadata": {},
   "outputs": [
    {
     "data": {
      "text/html": [
       "<div>\n",
       "<style scoped>\n",
       "    .dataframe tbody tr th:only-of-type {\n",
       "        vertical-align: middle;\n",
       "    }\n",
       "\n",
       "    .dataframe tbody tr th {\n",
       "        vertical-align: top;\n",
       "    }\n",
       "\n",
       "    .dataframe thead th {\n",
       "        text-align: right;\n",
       "    }\n",
       "</style>\n",
       "<table border=\"1\" class=\"dataframe\">\n",
       "  <thead>\n",
       "    <tr style=\"text-align: right;\">\n",
       "      <th></th>\n",
       "      <th>W</th>\n",
       "      <th>pval</th>\n",
       "      <th>normal</th>\n",
       "    </tr>\n",
       "  </thead>\n",
       "  <tbody>\n",
       "    <tr>\n",
       "      <th>0</th>\n",
       "      <td>76.252077</td>\n",
       "      <td>2.767400e-17</td>\n",
       "      <td>False</td>\n",
       "    </tr>\n",
       "  </tbody>\n",
       "</table>\n",
       "</div>"
      ],
      "text/plain": [
       "           W          pval  normal\n",
       "0  76.252077  2.767400e-17   False"
      ]
     },
     "execution_count": 66,
     "metadata": {},
     "output_type": "execute_result"
    }
   ],
   "source": [
    "# проверим нормальность средних значений для контрольной группы\n",
    "pg.normality(data=arppu_mean_control, method='normaltest')"
   ]
  },
  {
   "cell_type": "markdown",
   "id": "0b08d1f0-51ca-4cde-8690-7ead646b75ca",
   "metadata": {},
   "source": [
    "Требование о нормальности распределения среднего значения метрики выполняется только для целевой группы"
   ]
  },
  {
   "cell_type": "markdown",
   "id": "c80bafc7-6e07-4c43-ad21-ec4699824f34",
   "metadata": {},
   "source": [
    "Требование гомогенности дисперсий в контрольной и целевой группах выполняется, однако распределение среднего значения метрики является нормальным только для целевой группы. К тому же, учитывая, значительные различия в размерах выборок (78 в контрольной и 314 в целевой) и найденные в данных аномалии, лучше отказаться от использования t-теста и воспользоваться bootstrap."
   ]
  },
  {
   "cell_type": "code",
   "execution_count": 67,
   "id": "ecdde82d-1f28-4b7e-b78f-3a36ab3d37a1",
   "metadata": {},
   "outputs": [
    {
     "data": {
      "application/vnd.jupyter.widget-view+json": {
       "model_id": "3261d18ba5f047b5b733242262ba5377",
       "version_major": 2,
       "version_minor": 0
      },
      "text/plain": [
       "  0%|          | 0/10000 [00:00<?, ?it/s]"
      ]
     },
     "metadata": {},
     "output_type": "display_data"
    },
    {
     "data": {
      "image/png": "[encoded data removed]",
      "text/plain": [
       "<Figure size 640x480 with 1 Axes>"
      ]
     },
     "metadata": {},
     "output_type": "display_data"
    }
   ],
   "source": [
    "# bootstrap\n",
    "arppu_bootstrap = get_bootstrap(control_arppu, test_arppu, boot_it=10000)"
   ]
  },
  {
   "cell_type": "code",
   "execution_count": 68,
   "id": "f6f241a4-e108-4cc8-a44e-d7733caa0dcd",
   "metadata": {},
   "outputs": [
    {
     "data": {
      "text/plain": [
       "1.5831852499979675e-06"
      ]
     },
     "execution_count": 68,
     "metadata": {},
     "output_type": "execute_result"
    }
   ],
   "source": [
    "# p-value\n",
    "arppu_bootstrap['p_value']"
   ]
  },
  {
   "cell_type": "code",
   "execution_count": 69,
   "id": "5ce198e8-aaf1-40fc-9264-d2fdf0869e8d",
   "metadata": {},
   "outputs": [
    {
     "data": {
      "text/html": [
       "<div>\n",
       "<style scoped>\n",
       "    .dataframe tbody tr th:only-of-type {\n",
       "        vertical-align: middle;\n",
       "    }\n",
       "\n",
       "    .dataframe tbody tr th {\n",
       "        vertical-align: top;\n",
       "    }\n",
       "\n",
       "    .dataframe thead th {\n",
       "        text-align: right;\n",
       "    }\n",
       "</style>\n",
       "<table border=\"1\" class=\"dataframe\">\n",
       "  <thead>\n",
       "    <tr style=\"text-align: right;\">\n",
       "      <th></th>\n",
       "      <th>0</th>\n",
       "    </tr>\n",
       "  </thead>\n",
       "  <tbody>\n",
       "    <tr>\n",
       "      <th>0.025</th>\n",
       "      <td>-454.812752</td>\n",
       "    </tr>\n",
       "    <tr>\n",
       "      <th>0.975</th>\n",
       "      <td>-191.796669</td>\n",
       "    </tr>\n",
       "  </tbody>\n",
       "</table>\n",
       "</div>"
      ],
      "text/plain": [
       "                0\n",
       "0.025 -454.812752\n",
       "0.975 -191.796669"
      ]
     },
     "execution_count": 69,
     "metadata": {},
     "output_type": "execute_result"
    }
   ],
   "source": [
    "# доверительный интервал\n",
    "arppu_bootstrap['quants']"
   ]
  },
  {
   "cell_type": "markdown",
   "id": "09220a6d-bce0-452d-a58a-6131ed3bd7d3",
   "metadata": {},
   "source": [
    "95%-доверительный интервал не включает 0, следовательно мы можем отвергнуть нулевую гипотезу и с большой долей уверенности утверждать, что ARPPU в целевой группе статистически значимо увеличилась"
   ]
  },
  {
   "cell_type": "markdown",
   "id": "a7325355-5949-4bda-b002-a2e3cb83e62f",
   "metadata": {},
   "source": [
    "### Выводы"
   ]
  },
  {
   "cell_type": "markdown",
   "id": "a3c6de05-861a-44bd-8165-3770fe109917",
   "metadata": {},
   "source": [
    "По результатам анализа данных эксперимента было установлено, что новая механика оплаты на сайте не повысила конверсию в покупку (4.62 в целевой против 5.07 в контрольной). В то же время, показатели средней выручки на активного пользователя (ARPAU) и средней выручки на платящего пользователя (ARPPU) статистически значимо выросли. Выросли также медиана и мода чеков пользователей, что может говорит о том, что пользователи стали тратить больше.\n",
    "\n",
    "В то же время в данных об оплате была найдена явная аномалия. 93 пользователей в целевой группе (23.72% от всех платящих пользователей) совершили покупку на сумму 1900 ед., а в контрольной таких чеков нет. Этим и обусловлен рост показателей ARPAU и ARPPU в целевой группе. Поэтому нельзя с уверенностью утверждать, что рост метрик связан непосредственно с новой механикой оплаты. Также в целевой группе есть 35 пользователей с чеками на 1900.0001 ед., что наверняка является ошибкой округления при сборе данных.\n",
    "\n",
    "Я считаю, что раскатывать новую механику оплаты на всех пользователей не стоит. Нужно перепроверить данные и убедиться, что найденные аномалии возникли в результате введения новой механики оплаты, а не являются ошибками в сборе данных. "
   ]
  },
  {
   "cell_type": "markdown",
   "id": "63c42b6e-2748-40ef-9da4-65c9ba14392a",
   "metadata": {},
   "source": [
    "## Задание 2. SQL"
   ]
  },
  {
   "cell_type": "markdown",
   "id": "3d06ee0c-261b-4c1a-9d27-eabb1e6e0d3f",
   "metadata": {},
   "source": [
    "### Задание 2.1 Очень усердные ученики"
   ]
  },
  {
   "cell_type": "markdown",
   "id": "1ba3603d-6c85-4520-9f4d-f380d7b26670",
   "metadata": {},
   "source": [
    "### Условие"
   ]
  },
  {
   "cell_type": "markdown",
   "id": "d1c0d5cc-4bc7-476d-aefd-e28e253ddc53",
   "metadata": {},
   "source": [
    "Образовательные курсы состоят из различных уроков, каждый из которых состоит из нескольких маленьких заданий. Каждое такое маленькое задание называется \"горошиной\".\n",
    "\n",
    "Назовём очень усердным учеником того пользователя, который хотя бы раз за текущий месяц правильно решил 20 горошин.  \n",
    "\n",
    "Необходимо написать оптимальный запрос, который даст информацию о количестве очень усердных студентов.  \n",
    "NB! Под усердным студентом мы понимаем студента, который правильно решил 20 задач за текущий месяц."
   ]
  },
  {
   "cell_type": "code",
   "execution_count": 70,
   "id": "2674f541-958d-4a1d-a7cd-273f880df60c",
   "metadata": {},
   "outputs": [
    {
     "data": {
      "text/html": [
       "<style>\n",
       "table {float:left}\n",
       "</style>\n"
      ],
      "text/plain": [
       "<IPython.core.display.HTML object>"
      ]
     },
     "metadata": {},
     "output_type": "display_data"
    }
   ],
   "source": [
    "%%html\n",
    "<style>\n",
    "table {float:left}\n",
    "</style>"
   ]
  },
  {
   "cell_type": "markdown",
   "id": "e6d05238-87a1-4176-9fde-d153ec477a9c",
   "metadata": {},
   "source": [
    "### Данные"
   ]
  },
  {
   "cell_type": "markdown",
   "id": "f54a9c4b-1c2e-4183-aac3-dd17350a54be",
   "metadata": {},
   "source": [
    "Таблица 'default.peas'"
   ]
  },
  {
   "cell_type": "markdown",
   "id": "2314f6b2-d7e2-466c-93ba-f8c1a6b90a4d",
   "metadata": {},
   "source": [
    "|Название атрибута|Тип атрибута|Смысловое значение|\n",
    "|---|---|:---|\n",
    "|st_id|int|ID ученика|\n",
    "|timesst|timestamp|Время решения карточки|\n",
    "|correct|bool|Правильно ли решена горошина?|\n",
    "|subject|text|Дисциплина в которой находится горошина|"
   ]
  },
  {
   "cell_type": "markdown",
   "id": "32d76870-9996-46f8-a6f4-89263613e3e7",
   "metadata": {},
   "source": [
    "#### Подключимся к базе данных"
   ]
  },
  {
   "cell_type": "markdown",
   "id": "e3f2f0a4-4705-45c5-8ab4-37d164520058",
   "metadata": {},
   "source": [
    "Подключимся к базе данных default, используя pandahouse"
   ]
  },
  {
   "cell_type": "code",
   "execution_count": 71,
   "id": "8397799b-7951-4a67-b88e-80f6d45705f3",
   "metadata": {},
   "outputs": [],
   "source": [
    "# создаем соединение\n",
    "connection = {'host': 'https://clickhouse.lab.karpov.courses',\n",
    "              'database':'default',\n",
    "              'user':'student', \n",
    "              'password':'dpo_python_2020'}"
   ]
  },
  {
   "cell_type": "markdown",
   "id": "e6da5ebc-cb73-446d-af39-7338d6786448",
   "metadata": {},
   "source": [
    "В качестве текущего месяца будем считать последний месяц представленный в таблице."
   ]
  },
  {
   "cell_type": "markdown",
   "id": "d65c848f-f8c2-4ac4-842c-3bb1cba4fd6d",
   "metadata": {},
   "source": [
    "#### Запрос"
   ]
  },
  {
   "cell_type": "code",
   "execution_count": 72,
   "id": "b4af72bf-7aaa-404b-ae57-6fa63a54802d",
   "metadata": {},
   "outputs": [],
   "source": [
    "q = '''\n",
    "    select\n",
    "        count(st_id) as diligent_students\n",
    "    from\n",
    "        (select\n",
    "            st_id\n",
    "        from \n",
    "            {db}.peas\n",
    "        where toStartOfMonth(timest) = (select max(toStartOfMonth(timest)) from {db}.peas)\n",
    "        group by st_id\n",
    "        having sum(correct) >= 20\n",
    "        ) as current_month_diligent_students\n",
    "    '''"
   ]
  },
  {
   "cell_type": "code",
   "execution_count": 73,
   "id": "0357bf85-1520-4854-9cdb-0cbd71edbb59",
   "metadata": {},
   "outputs": [
    {
     "name": "stdout",
     "output_type": "stream",
     "text": [
      "Количество усердных учеников в текущем месяце: 136\n"
     ]
    }
   ],
   "source": [
    "diligent_student = ph.read_clickhouse(query=q, connection=connection)\n",
    "print(f'Количество усердных учеников в текущем месяце: {diligent_student.values[0, 0]}')"
   ]
  },
  {
   "cell_type": "markdown",
   "id": "5d5606a8-9748-492c-b9bc-aabd1ada7576",
   "metadata": {},
   "source": [
    "### Задание 2.2 Оптимизация воронки"
   ]
  },
  {
   "cell_type": "markdown",
   "id": "0f867320-6fa7-4208-aac2-437d72d0738c",
   "metadata": {},
   "source": [
    "### Условие"
   ]
  },
  {
   "cell_type": "markdown",
   "id": "8cca0517-1402-4d3f-abae-93e32e035b39",
   "metadata": {},
   "source": [
    "Образовательная платформа предлагает пройти студентам курсы по модели trial: студент может решить бесплатно лишь 30 горошин в день. Для неограниченного количества заданий в определенной дисциплине студенту необходимо приобрести полный доступ. Команда провела эксперимент, где был протестирован новый экран оплаты.  \n",
    "\n",
    "Необходимо в одном запросе выгрузить следующую информацию о группах пользователей:\n",
    "\n",
    "- ARPU \n",
    "- ARPAU \n",
    "- CR в покупку \n",
    "- СR активного пользователя в покупку \n",
    "- CR пользователя из активности по математике (subject = ’math’) в покупку курса по математике\n",
    "\n",
    "ARPU считается относительно всех пользователей, попавших в группы.\n",
    "\n",
    "Активным считается пользователь, за все время решивший больше 10 задач правильно в любых дисциплинах.\n",
    "\n",
    "Активным по математике считается пользователь, за все время решивший 2 или больше задач правильно по математике."
   ]
  },
  {
   "cell_type": "markdown",
   "id": "cbfc11ae-7864-476b-8824-b6891e0ee1c5",
   "metadata": {},
   "source": [
    "### Данные"
   ]
  },
  {
   "cell_type": "markdown",
   "id": "55cdd192-b715-49bf-b647-51244d985a21",
   "metadata": {},
   "source": [
    "Таблица 'default.peas'"
   ]
  },
  {
   "cell_type": "markdown",
   "id": "5e2d000e-587b-42fa-91bd-4758c752d3f0",
   "metadata": {},
   "source": [
    "|Название атрибута|Тип атрибута|Смысловое значение|\n",
    "|---|---|:---|\n",
    "|st_id|int|ID ученика|\n",
    "|timest|timestamp|Время решения карточки|\n",
    "|correct|bool|Правильно ли решена горошина?|\n",
    "|subject|text|Дисциплина в которой находится горошина|"
   ]
  },
  {
   "cell_type": "markdown",
   "id": "f3e96ecc-64cd-4858-8082-108e82b99ee6",
   "metadata": {},
   "source": [
    "Таблица 'default.studs'"
   ]
  },
  {
   "cell_type": "markdown",
   "id": "74ac1400-0b9e-4895-b547-e605eac0e463",
   "metadata": {},
   "source": [
    "|Название атрибута|Тип атрибута|Смысловое значение|\n",
    "|---|---|:---|\n",
    "|st_id|int|ID ученика|\n",
    "|test_grp|text| Метка ученика в данном эксперименте|"
   ]
  },
  {
   "cell_type": "markdown",
   "id": "6c73577d-dfb8-4f1f-a159-13e55110140f",
   "metadata": {},
   "source": [
    "Таблица 'default.final_project_check'"
   ]
  },
  {
   "cell_type": "markdown",
   "id": "596f5b9f-aef4-4b4e-a16c-f1124b097c71",
   "metadata": {},
   "source": [
    "|Название атрибута|Тип атрибута|Смысловое значение|\n",
    "|---|---|:---|\n",
    "|st_id|int|ID ученика|\n",
    "|sale_time|timestamp|Время покупки|\n",
    "|money|int|Цена, по которой приобрели данный курс|\n",
    "|subject|text|Дисциплина курса|"
   ]
  },
  {
   "cell_type": "markdown",
   "id": "206498a4-f2ce-49cc-adf3-9ec95384534e",
   "metadata": {},
   "source": [
    "#### Запрос"
   ]
  },
  {
   "cell_type": "code",
   "execution_count": 74,
   "id": "b5ec2b1a-dc33-4377-9538-0c3bcb25f490",
   "metadata": {},
   "outputs": [],
   "source": [
    "q = \"\"\"\n",
    "    with peas_solved as (                                         \n",
    "        select                                                    -- peas_solved содержит информацию об общем количестве решенных \n",
    "            st_id,                                                -- пользователем задач и решенных только по математике\n",
    "            sum(correct) as total_solved,\n",
    "            sumIf(correct, subject='Math') as math_solved\n",
    "        from {db}.peas\n",
    "        group by st_id), \n",
    "\n",
    "    temp_table as (                                               -- temp_table содержит объединенную информацию по пользователям,\n",
    "        select\n",
    "            sts.st_id as st_id,                                   -- количеству решенных задач, ценах купленного курса и дисциплине курса                              \n",
    "            sts.test_grp as test_grp,\n",
    "            ps.total_solved as total_solved,\n",
    "            ps.math_solved as math_solved,\n",
    "            fpc.money as money,\n",
    "            fpc.subject as subject\n",
    "        from\n",
    "            {db}.studs sts\n",
    "        left join\n",
    "            peas_solved as ps\n",
    "          on sts.st_id = ps.st_id\n",
    "        left join\n",
    "            {db}.final_project_check fpc\n",
    "          on sts.st_id = fpc.st_id)\n",
    "\n",
    "    select \n",
    "        round(sum(money) / uniqExact(st_id), 2) as ARPU,\n",
    "        round(sumIf(money, total_solved > 10) / countIf(distinct st_id, total_solved > 10), 2) as ARPAU,\n",
    "        round(countIf(distinct st_id, money > 0) / count(distinct st_id) * 100 ,2) as CR,\n",
    "        round(countIf(distinct st_id, money > 0 and total_solved > 10) / \n",
    "                                        countIf(distinct st_id, total_solved > 10) * 100, 2) as CR_active,\n",
    "        round(countIf(distinct st_id, money > 0 and math_solved >= 2 and subject='Math') / \n",
    "                                        countIf(distinct st_id, math_solved >=2) * 100, 2) as CR_math\n",
    "        from temp_table\n",
    "        group by test_grp    \n",
    "\"\"\""
   ]
  },
  {
   "cell_type": "code",
   "execution_count": 75,
   "id": "76334a75-9c6b-4035-bfab-3f7e94b7f327",
   "metadata": {},
   "outputs": [
    {
     "data": {
      "text/html": [
       "<div>\n",
       "<style scoped>\n",
       "    .dataframe tbody tr th:only-of-type {\n",
       "        vertical-align: middle;\n",
       "    }\n",
       "\n",
       "    .dataframe tbody tr th {\n",
       "        vertical-align: top;\n",
       "    }\n",
       "\n",
       "    .dataframe thead th {\n",
       "        text-align: right;\n",
       "    }\n",
       "</style>\n",
       "<table border=\"1\" class=\"dataframe\">\n",
       "  <thead>\n",
       "    <tr style=\"text-align: right;\">\n",
       "      <th></th>\n",
       "      <th>ARPU</th>\n",
       "      <th>ARPAU</th>\n",
       "      <th>CR</th>\n",
       "      <th>CR_active</th>\n",
       "      <th>CR_math</th>\n",
       "    </tr>\n",
       "  </thead>\n",
       "  <tbody>\n",
       "    <tr>\n",
       "      <th>0</th>\n",
       "      <td>4540.98</td>\n",
       "      <td>10393.70</td>\n",
       "      <td>4.92</td>\n",
       "      <td>11.02</td>\n",
       "      <td>6.12</td>\n",
       "    </tr>\n",
       "    <tr>\n",
       "      <th>1</th>\n",
       "      <td>11508.47</td>\n",
       "      <td>29739.58</td>\n",
       "      <td>10.85</td>\n",
       "      <td>26.04</td>\n",
       "      <td>9.52</td>\n",
       "    </tr>\n",
       "  </tbody>\n",
       "</table>\n",
       "</div>"
      ],
      "text/plain": [
       "       ARPU     ARPAU     CR  CR_active  CR_math\n",
       "0   4540.98  10393.70   4.92      11.02     6.12\n",
       "1  11508.47  29739.58  10.85      26.04     9.52"
      ]
     },
     "execution_count": 75,
     "metadata": {},
     "output_type": "execute_result"
    }
   ],
   "source": [
    "metrics_sql = ph.read_clickhouse(query=q, connection=connection)\n",
    "metrics_sql"
   ]
  },
  {
   "cell_type": "markdown",
   "id": "78139079-13f7-4669-829e-377249df2245",
   "metadata": {},
   "source": [
    "## Задание 3. Python"
   ]
  },
  {
   "cell_type": "markdown",
   "id": "eda75075-90e2-4d49-8ee3-01a3da17f067",
   "metadata": {},
   "source": [
    "### Условие"
   ]
  },
  {
   "cell_type": "markdown",
   "id": "9cb9d559-e46d-4a9b-8fde-63dc7e6e5dba",
   "metadata": {},
   "source": [
    "1. Реализуйте функцию, которая будет автоматически подгружать информацию из дополнительного файла groups_add.csv (заголовки могут отличаться) и на основании дополнительных параметров пересчитывать метрики.\n",
    "2. Реализуйте функцию, которая будет строить графики по получаемым метрикам."
   ]
  },
  {
   "cell_type": "markdown",
   "id": "efc54e66-93a5-4b11-b3c0-92718b8bf279",
   "metadata": {},
   "source": [
    "#### Реализуем функцию, которая будет автоматически подгружать информацию из дополнительного файла groups_add.csv"
   ]
  },
  {
   "cell_type": "code",
   "execution_count": 76,
   "id": "35a2a616-5351-49ae-90c5-70ff398f76d4",
   "metadata": {},
   "outputs": [],
   "source": [
    "# создадим текущий датафрейм на основе данных из первого задания без дополнительного файла groups_add.csv\n",
    "current_df = groups.copy()\n",
    "current_df['active'] = current_df['id'].isin(active_studs['student_id'])\n",
    "current_df['made_purchase'] = current_df['id'].isin(checks['student_id'])\n",
    "current_df = current_df.merge(checks, how='left', left_on='id', right_on='student_id').fillna(0)\n",
    "current_df.drop(columns=['student_id'], inplace=True)\n",
    "fail_data_id = current_df.loc[(current_df['active'] == False) & (current_df['made_purchase'])].id\n",
    "current_df = current_df.loc[~current_df['id'].isin(fail_data_id)]"
   ]
  },
  {
   "cell_type": "code",
   "execution_count": 77,
   "id": "af6374b8-3c1a-42c9-a200-7484d62b5df6",
   "metadata": {},
   "outputs": [],
   "source": [
    "# ссылки на файлы\n",
    "base_url = 'https://cloud-api.yandex.net/v1/disk/public/resources/download?'\n",
    "\n",
    "public_key_groups_add = 'https://disk.yandex.ru/d/5Kxrz02m3IBUwQ'\n",
    "public_key_active_studs = 'https://disk.yandex.ru/d/Tbs44Bm6H_FwFQ'\n",
    "public_key_checks = 'https://disk.yandex.ru/d/pH1q-VqcxXjsVA'"
   ]
  },
  {
   "cell_type": "code",
   "execution_count": 78,
   "id": "d3ddb0ea-80ab-474d-a4cf-b778bb187cdb",
   "metadata": {},
   "outputs": [],
   "source": [
    "# определим функцию для считывания данных \n",
    "def get_frame(base_url, public_key, sep=';'):\n",
    "\n",
    "    final_url = base_url + urlencode(dict(public_key=public_key))\n",
    "    response = requests.get(final_url)\n",
    "    download_url = response.json()['href']\n",
    "    download_response = requests.get(download_url)\n",
    "    return pd.read_csv(download_url, sep=sep)"
   ]
  },
  {
   "cell_type": "code",
   "execution_count": 79,
   "id": "eb465158-0c0d-4f49-8a24-503e17718a50",
   "metadata": {},
   "outputs": [],
   "source": [
    "# функция для пересчета метрик\n",
    "def get_metrics_update(current_df, base_url, link_group_add, link_active_studs, link_checks):\n",
    "    \"\"\"\n",
    "    Функция принимает на вход текущий датафрейм, ссылку на файл с новыми пользователями, а также файлы с активными пользователями и чеками.\n",
    "    Далее создается датафрейм с новыми пользователями и объединяется с текущим датафреймом.\n",
    "    На основании нового датафрейма пересчитываются метрики.\n",
    "    Функция возвращает пересчитанные метрики и новый датафрейм.\n",
    "    \n",
    "    \"\"\"\n",
    "\n",
    "    # загружаем новых пользователей из дополнительного файла group_add.csv\n",
    "    groups_add = get_frame(base_url, link_group_add, sep=',')\n",
    "\n",
    "    # подгружаем файлы с активными пользователями и чеками\n",
    "    active_studs = get_frame(base_url, link_active_studs)\n",
    "    checks = get_frame(base_url, link_checks)\n",
    "\n",
    "    # собираем датафрейм с новыми пользователями\n",
    "    temp_df = groups_add.copy()\n",
    "    temp_df['active'] = temp_df['id'].isin(active_studs['student_id'])\n",
    "    temp_df['made_purchase'] = temp_df['id'].isin(checks['student_id'])\n",
    "    temp_df = temp_df.merge(checks, how='left', left_on='id', right_on='student_id').fillna(0)\n",
    "    temp_df.drop(columns=['student_id'], inplace=True)\n",
    "\n",
    "    # убираем пользователей, которые не заходили на сайт, но совершили оплату\n",
    "    fail_data_id = temp_df.loc[(temp_df['active'] == False) & (temp_df['made_purchase'])].id\n",
    "    temp_df = temp_df.loc[~temp_df['id'].isin(fail_data_id)]\n",
    "\n",
    "\n",
    "    # объединяем новый датафрейм с уже имеющимся\n",
    "    new_df = pd.concat([current_df, temp_df]).reset_index(drop=True)\n",
    "\n",
    "    # пересчитываем метрики\n",
    "\n",
    "    # cr\n",
    "    cr = new_df.loc[new_df['active']].groupby('grp', as_index=False) \\\n",
    "                                    .agg({'made_purchase':'mean'}) \\\n",
    "                                    .rename(columns={'made_purchase':'cr'}) \n",
    "    cr['cr'] = cr['cr'].apply(lambda x: round(x * 100, 2))\n",
    "\n",
    "    #arpau\n",
    "    arpu = new_df.loc[new_df['active']].groupby(['id', 'grp'], as_index=False) \\\n",
    "            .agg({'rev':'sum'}) \\\n",
    "            .groupby('grp', as_index=False) \\\n",
    "            .agg({'rev':'mean'}) \\\n",
    "            .rename(columns={'rev':'arpu'}) \\\n",
    "            .round(3)\n",
    "    #arppu\n",
    "    arppu = new_df.loc[new_df['made_purchase']].groupby(['id', 'grp'], as_index=False) \\\n",
    "                                            .agg({'rev':'sum'}) \\\n",
    "                                            .groupby('grp', as_index=False) \\\n",
    "                                            .agg({'rev':'mean'}) \\\n",
    "                                            .rename(columns={'rev':'arppu'}) \\\n",
    "                                            .round(3)\n",
    "\n",
    "    # объединяем полученные метрики\n",
    "    metrics = cr.merge(arpu, on='grp').merge(arppu, on='grp') \n",
    "\n",
    "    # возвращаем метрики и новый датафрейм\n",
    "    return metrics, new_df"
   ]
  },
  {
   "cell_type": "code",
   "execution_count": 80,
   "id": "b77a073d-8069-48cd-b615-ddd738fbd2db",
   "metadata": {},
   "outputs": [
    {
     "data": {
      "text/html": [
       "<div>\n",
       "<style scoped>\n",
       "    .dataframe tbody tr th:only-of-type {\n",
       "        vertical-align: middle;\n",
       "    }\n",
       "\n",
       "    .dataframe tbody tr th {\n",
       "        vertical-align: top;\n",
       "    }\n",
       "\n",
       "    .dataframe thead th {\n",
       "        text-align: right;\n",
       "    }\n",
       "</style>\n",
       "<table border=\"1\" class=\"dataframe\">\n",
       "  <thead>\n",
       "    <tr style=\"text-align: right;\">\n",
       "      <th></th>\n",
       "      <th>grp</th>\n",
       "      <th>cr</th>\n",
       "      <th>arpu</th>\n",
       "      <th>arppu</th>\n",
       "    </tr>\n",
       "  </thead>\n",
       "  <tbody>\n",
       "    <tr>\n",
       "      <th>0</th>\n",
       "      <td>A</td>\n",
       "      <td>5.07</td>\n",
       "      <td>47.347</td>\n",
       "      <td>933.590</td>\n",
       "    </tr>\n",
       "    <tr>\n",
       "      <th>1</th>\n",
       "      <td>B</td>\n",
       "      <td>4.62</td>\n",
       "      <td>58.059</td>\n",
       "      <td>1257.879</td>\n",
       "    </tr>\n",
       "  </tbody>\n",
       "</table>\n",
       "</div>"
      ],
      "text/plain": [
       "  grp    cr    arpu     arppu\n",
       "0   A  5.07  47.347   933.590\n",
       "1   B  4.62  58.059  1257.879"
      ]
     },
     "execution_count": 80,
     "metadata": {},
     "output_type": "execute_result"
    }
   ],
   "source": [
    "metrics, _ = get_metrics_update(current_df, base_url, public_key_groups_add, public_key_active_studs, public_key_checks)\n",
    "metrics"
   ]
  },
  {
   "cell_type": "code",
   "execution_count": null,
   "id": "0a954a33-2759-4679-a65e-fdb9354b5a02",
   "metadata": {},
   "outputs": [],
   "source": []
  },
  {
   "cell_type": "markdown",
   "id": "2ff268cf-8e16-4b2f-91e3-2bea9fc6dbd9",
   "metadata": {},
   "source": [
    "#### Реализуем функцию, которая будет строить графики по получаемым метрикам"
   ]
  },
  {
   "cell_type": "code",
   "execution_count": 81,
   "id": "7af09e6b-1f6b-4b8a-9e12-d3af640fd881",
   "metadata": {},
   "outputs": [],
   "source": [
    "# функция для построения графиков\n",
    "def get_charts(metrics_df):\n",
    "    \"\"\"Функция получает на вход таблицу с метриками и возвращает графики по этим метрикам\"\"\"\n",
    "    \n",
    "    fig, axes = plt.subplots(1, 3, figsize=(10,4))\n",
    "    metrics = metrics_df.columns[1:]\n",
    "    for ax, metric in zip(axes, metrics):\n",
    "        sns.barplot(data=metrics_df, x='grp', y=metric, hue='grp', palette='coolwarm', ax=ax) \\\n",
    "                                                    .set(title=metric, xlabel='группы', ylabel='')\n",
    "    fig.tight_layout()\n",
    "    sns.despine()\n",
    "    plt.show()\n",
    "    "
   ]
  },
  {
   "cell_type": "code",
   "execution_count": 82,
   "id": "d6a744da-cf23-4d1e-a9c6-943a1154e6bb",
   "metadata": {},
   "outputs": [
    {
     "data": {
      "image/png": "[encoded data removed]",
      "text/plain": [
       "<Figure size 1000x400 with 3 Axes>"
      ]
     },
     "metadata": {},
     "output_type": "display_data"
    }
   ],
   "source": [
    "get_charts(metrics)"
   ]
  },
  {
   "cell_type": "code",
   "execution_count": null,
   "id": "3e2516ff-2ae6-4978-a2a9-9e393c4ba59a",
   "metadata": {},
   "outputs": [],
   "source": []
  },
  {
   "cell_type": "code",
   "execution_count": null,
   "id": "67fd2760-35b7-48f1-aa23-7d368897cdca",
   "metadata": {},
   "outputs": [],
   "source": []
  },
  {
   "cell_type": "code",
   "execution_count": null,
   "id": "e1e37aa5-3329-4b0b-b2c1-bc3a59576d1d",
   "metadata": {},
   "outputs": [],
   "source": []
  },
  {
   "cell_type": "code",
   "execution_count": null,
   "id": "79635c2d-0dd2-45a5-8b46-8c50bcfe3560",
   "metadata": {},
   "outputs": [],
   "source": []
  }
 ],
 "metadata": {
  "kernelspec": {
   "display_name": "Python 3 (ipykernel)",
   "language": "python",
   "name": "python3"
  },
  "language_info": {
   "codemirror_mode": {
    "name": "ipython",
    "version": 3
   },
   "file_extension": ".py",
   "mimetype": "text/x-python",
   "name": "python",
   "nbconvert_exporter": "python",
   "pygments_lexer": "ipython3",
   "version": "3.9.6"
  }
 },
 "nbformat": 4,
 "nbformat_minor": 5
}
